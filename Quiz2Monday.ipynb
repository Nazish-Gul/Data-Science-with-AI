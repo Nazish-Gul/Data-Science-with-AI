{
 "cells": [
  {
   "cell_type": "code",
   "execution_count": 1,
   "id": "8657c3b0-7927-41ff-ae98-b39fc685d3b1",
   "metadata": {},
   "outputs": [],
   "source": [
    "# Q1. What is NumPy, and why is it important for data science?"
   ]
  },
  {
   "cell_type": "code",
   "execution_count": 2,
   "id": "5a7e05d1-6e68-464f-8071-6843131becd5",
   "metadata": {},
   "outputs": [
    {
     "data": {
      "text/plain": [
       "'NumPy (Numerical Python) is a powerful Python library used for numerical computing.\\n It provides support for:\\n large, multi-dimensional arrays, \\n Matrices, along with a collection of mathematical functions,\\n Operations on these data structures.\\n It is widely used in data science, machine learning, and scientific computing due to its efficiency and ease of use.'"
      ]
     },
     "execution_count": 2,
     "metadata": {},
     "output_type": "execute_result"
    }
   ],
   "source": [
    "'''NumPy (Numerical Python) is a powerful Python library used for numerical computing.\n",
    " It provides support for:\n",
    " large, multi-dimensional arrays, \n",
    " Matrices, along with a collection of mathematical functions,\n",
    " Operations on these data structures.\n",
    " It is widely used in data science, machine learning, and scientific computing due to its efficiency and ease of use.'''"
   ]
  },
  {
   "cell_type": "code",
   "execution_count": 3,
   "id": "65f1f1e4-fc44-486d-be78-c8e9245cf7d6",
   "metadata": {},
   "outputs": [],
   "source": [
    "# Q2. Explain the difference between a Python list and a NumPy array."
   ]
  },
  {
   "cell_type": "code",
   "execution_count": 4,
   "id": "63722ddb-a1bb-4d04-9e14-4e48ffc1a133",
   "metadata": {},
   "outputs": [
    {
     "data": {
      "text/plain": [
       "'Python lists and NumPy arrays are both used to store collections of elements,\\nbut they have significant differences in terms of structure, functionality, and performance.\\n##Diffferences:\\n\\n1. Data Type Support\\nPython List:\\nCan hold elements of different data types (e.g., integers, strings, floats, etc.) in the same list.\\nExample: [1, \"hello\", 3.14]\\nNumPy Array:\\nDesigned to hold elements of a single data type (homogeneous). If you mix types, NumPy will upcast them to a compatible type.\\nExample: np.array([1, 2, 3.5]) results in an array of floats: [1.0, 2.0, 3.5].\\n\\n2. Performance\\nPython List:\\nSlower because operations are implemented in Python, and it does not support vectorized operations.\\nIteration over lists involves higher overhead.\\nNumPy Array:\\nMuch faster for numerical computations.\\n\\n3. Memory Efficiency\\nPython List:\\nRequires more memory since each element is a Python object with additional overhead.\\nNumPy Array:\\nMore memory-efficient because elements are stored in a contiguous block of memory with a fixed data type.\\n\\n4. Functionality\\nPython List:\\nGeneral-purpose and flexible, but lacks built-in methods for mathematical operations.\\nNumPy Array:\\nDesigned for numerical and scientific computing. Offers a rich set of functions for mathematical, statistical, and linear algebra operations.\\n\\n5. Dimensionality\\nPython List:\\nSupports 1-dimensional data naturally. Multidimensional structures require nested lists, which can be cumbersome to work with.\\nNumPy Array:\\nEasily supports multi-dimensional data (1D, 2D, 3D, etc.) with efficient indexing and slicing.\\n\\n6. Broadcasting\\nPython List:\\nDoes not support broadcasting. Operations must be explicitly looped or matched in size.\\nNumPy Array:\\nSupports broadcasting, allowing operations on arrays of different shapes.'"
      ]
     },
     "execution_count": 4,
     "metadata": {},
     "output_type": "execute_result"
    }
   ],
   "source": [
    "'''Python lists and NumPy arrays are both used to store collections of elements,\n",
    "but they have significant differences in terms of structure, functionality, and performance.\n",
    "##Diffferences:\n",
    "\n",
    "1. Data Type Support\n",
    "Python List:\n",
    "Can hold elements of different data types (e.g., integers, strings, floats, etc.) in the same list.\n",
    "Example: [1, \"hello\", 3.14]\n",
    "NumPy Array:\n",
    "Designed to hold elements of a single data type (homogeneous). If you mix types, NumPy will upcast them to a compatible type.\n",
    "Example: np.array([1, 2, 3.5]) results in an array of floats: [1.0, 2.0, 3.5].\n",
    "\n",
    "2. Performance\n",
    "Python List:\n",
    "Slower because operations are implemented in Python, and it does not support vectorized operations.\n",
    "Iteration over lists involves higher overhead.\n",
    "NumPy Array:\n",
    "Much faster for numerical computations.\n",
    "\n",
    "3. Memory Efficiency\n",
    "Python List:\n",
    "Requires more memory since each element is a Python object with additional overhead.\n",
    "NumPy Array:\n",
    "More memory-efficient because elements are stored in a contiguous block of memory with a fixed data type.\n",
    "\n",
    "4. Functionality\n",
    "Python List:\n",
    "General-purpose and flexible, but lacks built-in methods for mathematical operations.\n",
    "NumPy Array:\n",
    "Designed for numerical and scientific computing. Offers a rich set of functions for mathematical, statistical, and linear algebra operations.\n",
    "\n",
    "5. Dimensionality\n",
    "Python List:\n",
    "Supports 1-dimensional data naturally. Multidimensional structures require nested lists, which can be cumbersome to work with.\n",
    "NumPy Array:\n",
    "Easily supports multi-dimensional data (1D, 2D, 3D, etc.) with efficient indexing and slicing.\n",
    "\n",
    "6. Broadcasting\n",
    "Python List:\n",
    "Does not support broadcasting. Operations must be explicitly looped or matched in size.\n",
    "NumPy Array:\n",
    "Supports broadcasting, allowing operations on arrays of different shapes.'''"
   ]
  },
  {
   "cell_type": "code",
   "execution_count": 11,
   "id": "9041f4c3-d305-4bfc-9574-0aa7569feaf4",
   "metadata": {},
   "outputs": [],
   "source": [
    "# Q3. How do you create a NumPy array of zeros with a specific shape?"
   ]
  },
  {
   "cell_type": "code",
   "execution_count": 12,
   "id": "f018ed76-da73-4b8e-aab5-949ae514e95b",
   "metadata": {},
   "outputs": [],
   "source": [
    "import numpy as np"
   ]
  },
  {
   "cell_type": "code",
   "execution_count": 13,
   "id": "a6de2145-a4ed-46a4-af5d-ce12f5b9649a",
   "metadata": {},
   "outputs": [],
   "source": [
    "array_zeros = np.zeros(shape=(3, 3))"
   ]
  },
  {
   "cell_type": "code",
   "execution_count": 14,
   "id": "837a63ba-9b26-4573-b720-71e1e50e58d0",
   "metadata": {},
   "outputs": [
    {
     "name": "stdout",
     "output_type": "stream",
     "text": [
      "[[0. 0. 0.]\n",
      " [0. 0. 0.]\n",
      " [0. 0. 0.]]\n"
     ]
    }
   ],
   "source": [
    "print(array_zeros)"
   ]
  },
  {
   "cell_type": "code",
   "execution_count": 15,
   "id": "38c6a37c-ac32-436f-970d-606a2f964238",
   "metadata": {},
   "outputs": [],
   "source": [
    "# Q4. What are the common data types in NumPy arrays?"
   ]
  },
  {
   "cell_type": "code",
   "execution_count": 19,
   "id": "1f250ba8-5f43-42fb-a526-9f5a81b0b867",
   "metadata": {},
   "outputs": [
    {
     "data": {
      "text/plain": [
       "'##Data types in numpy array:\\nNumeric data type\\nBoolean data type(True or False)\\nString data type\\nDateTime data type\\nObject data type'"
      ]
     },
     "execution_count": 19,
     "metadata": {},
     "output_type": "execute_result"
    }
   ],
   "source": [
    "'''##Data types in numpy array:\n",
    "Numeric data type\n",
    "Boolean data type(True or False)\n",
    "String data type\n",
    "DateTime data type\n",
    "Object data type'''"
   ]
  },
  {
   "cell_type": "code",
   "execution_count": 17,
   "id": "a07d4aa6-3537-4fdf-b857-38097e6fa1d0",
   "metadata": {},
   "outputs": [],
   "source": [
    "# Q5. How do you perform element-wise addition, subtraction, multiplication, and division on NumPy arrays?"
   ]
  },
  {
   "cell_type": "code",
   "execution_count": 20,
   "id": "9e692aea-b389-4948-8a48-f814b319fc62",
   "metadata": {},
   "outputs": [],
   "source": [
    "import numpy as np"
   ]
  },
  {
   "cell_type": "code",
   "execution_count": 30,
   "id": "ae7a8a65-d919-448b-99fd-909806a90a00",
   "metadata": {},
   "outputs": [],
   "source": [
    "array1 = np.array([1, 2, 3])\n",
    "array2 = np.array([4, 5, 6])"
   ]
  },
  {
   "cell_type": "code",
   "execution_count": 31,
   "id": "0fea706c-fa52-45bd-b514-50ff8c0c7fab",
   "metadata": {},
   "outputs": [],
   "source": [
    "# Addition"
   ]
  },
  {
   "cell_type": "code",
   "execution_count": 32,
   "id": "cebfe27a-4fd2-4439-a59f-3b37347691f3",
   "metadata": {},
   "outputs": [],
   "source": [
    "result=array1+array2"
   ]
  },
  {
   "cell_type": "code",
   "execution_count": 33,
   "id": "cb7b7a3a-05b3-44fe-9273-81a1c2c8a2cd",
   "metadata": {},
   "outputs": [
    {
     "name": "stdout",
     "output_type": "stream",
     "text": [
      "[5 7 9]\n"
     ]
    }
   ],
   "source": [
    "print(result)"
   ]
  },
  {
   "cell_type": "code",
   "execution_count": 34,
   "id": "704d5249-dcad-49b6-82b9-4ecac3f615bc",
   "metadata": {},
   "outputs": [],
   "source": [
    "# Subtraction"
   ]
  },
  {
   "cell_type": "code",
   "execution_count": 35,
   "id": "f79bdfcb-e0b4-449c-99df-942a760af334",
   "metadata": {},
   "outputs": [],
   "source": [
    "result=array1-array2"
   ]
  },
  {
   "cell_type": "code",
   "execution_count": 36,
   "id": "3c98f09e-e18a-4af1-b8e8-06f96d23c8b4",
   "metadata": {},
   "outputs": [
    {
     "name": "stdout",
     "output_type": "stream",
     "text": [
      "[-3 -3 -3]\n"
     ]
    }
   ],
   "source": [
    "print(result)"
   ]
  },
  {
   "cell_type": "code",
   "execution_count": 37,
   "id": "f2bb787b-4681-491c-8668-6666e8d0cec9",
   "metadata": {},
   "outputs": [],
   "source": [
    "# Multiplication"
   ]
  },
  {
   "cell_type": "code",
   "execution_count": 40,
   "id": "1b646474-d9e4-4efb-8166-65c18d009912",
   "metadata": {},
   "outputs": [],
   "source": [
    "result=array1*array2"
   ]
  },
  {
   "cell_type": "code",
   "execution_count": 41,
   "id": "95ef1d6b-b709-4262-918b-0c775cb3f74c",
   "metadata": {},
   "outputs": [
    {
     "name": "stdout",
     "output_type": "stream",
     "text": [
      "[ 4 10 18]\n"
     ]
    }
   ],
   "source": [
    "print(result)"
   ]
  },
  {
   "cell_type": "code",
   "execution_count": 42,
   "id": "ed599936-a9a8-4f15-8c16-14929b0025ef",
   "metadata": {},
   "outputs": [],
   "source": [
    "# Division"
   ]
  },
  {
   "cell_type": "code",
   "execution_count": 43,
   "id": "2ccb5ed8-62e1-4e16-97d6-7d962f349f2f",
   "metadata": {},
   "outputs": [],
   "source": [
    "result=array1/array2"
   ]
  },
  {
   "cell_type": "code",
   "execution_count": 44,
   "id": "2a6a6ec1-6ae5-4fa9-a2e8-5f2da29888d1",
   "metadata": {},
   "outputs": [
    {
     "name": "stdout",
     "output_type": "stream",
     "text": [
      "[0.25 0.4  0.5 ]\n"
     ]
    }
   ],
   "source": [
    "print(result)"
   ]
  },
  {
   "cell_type": "code",
   "execution_count": 45,
   "id": "e1f23ed1-e4f7-468a-b48e-58ea0898bafc",
   "metadata": {},
   "outputs": [],
   "source": [
    "# Q6. Explain the concept of array slicing in NumPy."
   ]
  },
  {
   "cell_type": "code",
   "execution_count": 46,
   "id": "4128d6f1-7e20-43e2-8a4d-73be48d7a075",
   "metadata": {},
   "outputs": [],
   "source": [
    "#Array slicing in NumPy is a powerful feature that allows you to extract specific parts of an array"
   ]
  },
  {
   "cell_type": "code",
   "execution_count": 47,
   "id": "227f1363-99a6-4ed4-8ab6-5499956c8c46",
   "metadata": {},
   "outputs": [],
   "source": [
    "#Example:"
   ]
  },
  {
   "cell_type": "code",
   "execution_count": 48,
   "id": "030c1e8b-5024-4c65-af24-3fde0c87fd9e",
   "metadata": {},
   "outputs": [],
   "source": [
    "import numpy as np\n"
   ]
  },
  {
   "cell_type": "code",
   "execution_count": 49,
   "id": "f2002b34-4e05-48cb-bc5f-60da4b86b749",
   "metadata": {},
   "outputs": [],
   "source": [
    "array = np.array([1, 2, 3, 4, 5])"
   ]
  },
  {
   "cell_type": "code",
   "execution_count": 50,
   "id": "efd9a10a-8174-4c19-b6d9-c9811c2d5a80",
   "metadata": {},
   "outputs": [
    {
     "name": "stdout",
     "output_type": "stream",
     "text": [
      "[2 3]\n"
     ]
    }
   ],
   "source": [
    "print(array[1:3])"
   ]
  },
  {
   "cell_type": "code",
   "execution_count": 51,
   "id": "e74721cb-61f3-4ffd-a1ae-7e8b64f3a800",
   "metadata": {},
   "outputs": [],
   "source": [
    "# Q7. How do you find the mean, median, and mode of a NumPy array?"
   ]
  },
  {
   "cell_type": "code",
   "execution_count": 52,
   "id": "957163a7-9ec4-48ef-8139-2c4f2c42f1ff",
   "metadata": {},
   "outputs": [],
   "source": [
    "#Mean"
   ]
  },
  {
   "cell_type": "code",
   "execution_count": 53,
   "id": "ff1a0134-da63-4fea-8e28-49ee7159c9b1",
   "metadata": {},
   "outputs": [],
   "source": [
    "import numpy as np"
   ]
  },
  {
   "cell_type": "code",
   "execution_count": 54,
   "id": "a0ccafbe-d01e-4cde-b942-8cec648a16d8",
   "metadata": {},
   "outputs": [],
   "source": [
    "array = np.array([1, 2, 3, 4, 5])"
   ]
  },
  {
   "cell_type": "code",
   "execution_count": 55,
   "id": "fac95d49-3beb-4636-bd6c-9d2575b0c369",
   "metadata": {},
   "outputs": [],
   "source": [
    "mean_value = np.mean(array)"
   ]
  },
  {
   "cell_type": "code",
   "execution_count": 56,
   "id": "19a4d510-d378-42ca-9143-f17850bc271a",
   "metadata": {},
   "outputs": [
    {
     "name": "stdout",
     "output_type": "stream",
     "text": [
      "3.0\n"
     ]
    }
   ],
   "source": [
    "print(mean_value)"
   ]
  },
  {
   "cell_type": "code",
   "execution_count": 58,
   "id": "dc8586ad-e48f-48a4-93ae-417271015e56",
   "metadata": {},
   "outputs": [],
   "source": [
    "##Median"
   ]
  },
  {
   "cell_type": "code",
   "execution_count": 59,
   "id": "26c4b5cd-86f0-4e46-9fd9-672595f4f65e",
   "metadata": {},
   "outputs": [],
   "source": [
    "median_value = np.median(array)"
   ]
  },
  {
   "cell_type": "code",
   "execution_count": 60,
   "id": "0993ae76-d1f1-48fc-b92d-14685987cc48",
   "metadata": {},
   "outputs": [
    {
     "name": "stdout",
     "output_type": "stream",
     "text": [
      "3.0\n"
     ]
    }
   ],
   "source": [
    "print(median_value)"
   ]
  },
  {
   "cell_type": "code",
   "execution_count": 61,
   "id": "dbf24398-262b-422d-9c0f-9ce8f8e6d2ab",
   "metadata": {},
   "outputs": [],
   "source": [
    "#Mode"
   ]
  },
  {
   "cell_type": "code",
   "execution_count": 62,
   "id": "cb2fc5c1-9571-42e0-8548-963aeef6d90e",
   "metadata": {},
   "outputs": [],
   "source": [
    "import numpy as np"
   ]
  },
  {
   "cell_type": "code",
   "execution_count": 63,
   "id": "fec2ce17-1740-4f78-8386-d146790958dc",
   "metadata": {},
   "outputs": [],
   "source": [
    "from scipy import stats\n"
   ]
  },
  {
   "cell_type": "code",
   "execution_count": 64,
   "id": "9820827f-959a-48f1-a185-3135ab88d812",
   "metadata": {},
   "outputs": [],
   "source": [
    "array = np.array([1, 2, 2, 3, 3, 3])"
   ]
  },
  {
   "cell_type": "code",
   "execution_count": 65,
   "id": "dc5a22fe-5588-41a1-8062-4495c24a918a",
   "metadata": {},
   "outputs": [],
   "source": [
    "mode_value = stats.mode(array)"
   ]
  },
  {
   "cell_type": "code",
   "execution_count": 67,
   "id": "5f2ec0d4-307d-453f-972b-fccfe0f9b20b",
   "metadata": {},
   "outputs": [
    {
     "name": "stdout",
     "output_type": "stream",
     "text": [
      "3\n"
     ]
    }
   ],
   "source": [
    "print(mode_value.mode)"
   ]
  },
  {
   "cell_type": "code",
   "execution_count": 68,
   "id": "0c7bf668-3e38-4a80-ad6f-e1d7e3d5f007",
   "metadata": {},
   "outputs": [],
   "source": [
    "# Q8. What is broadcasting in NumPy, and how does it work?"
   ]
  },
  {
   "cell_type": "code",
   "execution_count": 70,
   "id": "8d1d7510-10ba-41ba-a176-01e0cf529894",
   "metadata": {},
   "outputs": [],
   "source": [
    "#Broadcasting in NumPy is a powerful feature that allows to perform operations on arrays with different shapes and sizes."
   ]
  },
  {
   "cell_type": "code",
   "execution_count": 71,
   "id": "b4bc0356-d523-4408-a1cb-77b9071a6356",
   "metadata": {},
   "outputs": [],
   "source": [
    "#How works:"
   ]
  },
  {
   "cell_type": "code",
   "execution_count": 72,
   "id": "3bdf4dcf-caed-4c3d-8b15-4f143c2c6fd6",
   "metadata": {},
   "outputs": [
    {
     "data": {
      "text/plain": [
       "'1. Shape Comparison: NumPy compares the shapes of the arrays involved in the operation.\\n2. Broadcasting Rules: NumPy applies the broadcasting rules to determine the resulting shape.\\n3. Element-wise Operation: The operation is performed element-wise on the broadcasted arrays.'"
      ]
     },
     "execution_count": 72,
     "metadata": {},
     "output_type": "execute_result"
    }
   ],
   "source": [
    "'''1. Shape Comparison: NumPy compares the shapes of the arrays involved in the operation.\n",
    "2. Broadcasting Rules: NumPy applies the broadcasting rules to determine the resulting shape.\n",
    "3. Element-wise Operation: The operation is performed element-wise on the broadcasted arrays.'''"
   ]
  },
  {
   "cell_type": "code",
   "execution_count": 73,
   "id": "f900557e-d800-4f3b-b60f-dd4c3d7be5ae",
   "metadata": {},
   "outputs": [],
   "source": [
    "# Q9. What is Pandas, and what are its key data structures?"
   ]
  },
  {
   "cell_type": "code",
   "execution_count": 74,
   "id": "00b1940a-2b3d-4324-8574-2ca6675c65de",
   "metadata": {},
   "outputs": [
    {
     "data": {
      "text/plain": [
       "'Pandas is a powerful open-source Python library designed for data manipulation, analysis, and exploration.\\nIt provides easy-to-use, high-performance data structures and functions that simplify working with structured data.\\nPandas is particularly useful for tasks like cleaning, transforming, and analyzing data in formats such as CSV, Excel, SQL databases, or JSON.'"
      ]
     },
     "execution_count": 74,
     "metadata": {},
     "output_type": "execute_result"
    }
   ],
   "source": [
    "'''Pandas is a powerful open-source Python library designed for data manipulation, analysis, and exploration.\n",
    "It provides easy-to-use, high-performance data structures and functions that simplify working with structured data.\n",
    "Pandas is particularly useful for tasks like cleaning, transforming, and analyzing data in formats such as CSV, Excel, SQL databases, or JSON.'''"
   ]
  },
  {
   "cell_type": "code",
   "execution_count": 75,
   "id": "ef23676e-585f-4c77-8217-993e4f5a3a96",
   "metadata": {},
   "outputs": [],
   "source": [
    "# Q10.How do you import data from a CSV file into a Pandas DataFrame?"
   ]
  },
  {
   "cell_type": "code",
   "execution_count": 76,
   "id": "1857c5ac-91fb-45a3-a5d1-2b6b11eb473b",
   "metadata": {},
   "outputs": [],
   "source": [
    "import pandas as pd\n"
   ]
  },
  {
   "cell_type": "code",
   "execution_count": 78,
   "id": "a36dc220-d148-4c84-934e-a0dbb1d745d0",
   "metadata": {},
   "outputs": [],
   "source": [
    "#df = pd.read_csv('file_path.csv')\n"
   ]
  },
  {
   "cell_type": "code",
   "execution_count": 80,
   "id": "7c8e0411-59ed-4e8d-9688-90bfc24dfba3",
   "metadata": {},
   "outputs": [],
   "source": [
    "#print(df.head())\n"
   ]
  },
  {
   "cell_type": "code",
   "execution_count": 81,
   "id": "db198d62-da2d-4e37-99c0-6a8e2112cfd1",
   "metadata": {},
   "outputs": [],
   "source": [
    "# Q11.How do you select specific columns or rows from a DataFrame?"
   ]
  },
  {
   "cell_type": "code",
   "execution_count": 1,
   "id": "1221cc90-56b2-44a9-8c38-e4d24023b5a5",
   "metadata": {},
   "outputs": [],
   "source": [
    "import pandas as pd\n"
   ]
  },
  {
   "cell_type": "code",
   "execution_count": 2,
   "id": "706827a0-010e-48f8-aaba-dad727d380cb",
   "metadata": {},
   "outputs": [],
   "source": [
    "data = {\n",
    "    'A': [1, 2, 3],\n",
    "    'B': [4, 5, 6],\n",
    "    'C': [7, 8, 9]\n",
    "}\n",
    "df = pd.DataFrame(data)\n"
   ]
  },
  {
   "cell_type": "code",
   "execution_count": 3,
   "id": "972f3ba8-f1aa-469c-99fe-869256276b6c",
   "metadata": {
    "scrolled": true
   },
   "outputs": [
    {
     "data": {
      "text/html": [
       "<div>\n",
       "<style scoped>\n",
       "    .dataframe tbody tr th:only-of-type {\n",
       "        vertical-align: middle;\n",
       "    }\n",
       "\n",
       "    .dataframe tbody tr th {\n",
       "        vertical-align: top;\n",
       "    }\n",
       "\n",
       "    .dataframe thead th {\n",
       "        text-align: right;\n",
       "    }\n",
       "</style>\n",
       "<table border=\"1\" class=\"dataframe\">\n",
       "  <thead>\n",
       "    <tr style=\"text-align: right;\">\n",
       "      <th></th>\n",
       "      <th>A</th>\n",
       "      <th>C</th>\n",
       "    </tr>\n",
       "  </thead>\n",
       "  <tbody>\n",
       "    <tr>\n",
       "      <th>0</th>\n",
       "      <td>1</td>\n",
       "      <td>7</td>\n",
       "    </tr>\n",
       "    <tr>\n",
       "      <th>1</th>\n",
       "      <td>2</td>\n",
       "      <td>8</td>\n",
       "    </tr>\n",
       "  </tbody>\n",
       "</table>\n",
       "</div>"
      ],
      "text/plain": [
       "   A  C\n",
       "0  1  7\n",
       "1  2  8"
      ]
     },
     "execution_count": 3,
     "metadata": {},
     "output_type": "execute_result"
    }
   ],
   "source": [
    "df.iloc[0:2, [0, 2]]  # Rows 0-1, Columns A and C\n"
   ]
  },
  {
   "cell_type": "code",
   "execution_count": 4,
   "id": "c5cd7c56-2f6f-4024-90db-a73316a87adb",
   "metadata": {},
   "outputs": [],
   "source": [
    "# Q 12.Explain the difference between the loc and iloc indexers in Pandas."
   ]
  },
  {
   "cell_type": "code",
   "execution_count": 5,
   "id": "9a72f24c-1fec-485f-a9dc-58783389f864",
   "metadata": {},
   "outputs": [
    {
     "data": {
      "text/plain": [
       "' Loc: Access rows and columns using labels (names).\\nExample:......'"
      ]
     },
     "execution_count": 5,
     "metadata": {},
     "output_type": "execute_result"
    }
   ],
   "source": [
    "''' Loc: Access rows and columns using labels (names).\n",
    "Example:......'''"
   ]
  },
  {
   "cell_type": "code",
   "execution_count": 6,
   "id": "133dd7da-caa6-4c1c-bde2-d5435b9db597",
   "metadata": {},
   "outputs": [],
   "source": [
    "df = pd.DataFrame(data, index=['row1', 'row2', 'row3'])"
   ]
  },
  {
   "cell_type": "code",
   "execution_count": 8,
   "id": "56609571-2274-49bb-946c-88d8aa375187",
   "metadata": {
    "scrolled": true
   },
   "outputs": [
    {
     "name": "stdout",
     "output_type": "stream",
     "text": [
      "A    1\n",
      "B    4\n",
      "C    7\n",
      "Name: row1, dtype: int64\n"
     ]
    }
   ],
   "source": [
    "print(df.loc['row1'])"
   ]
  },
  {
   "cell_type": "code",
   "execution_count": 10,
   "id": "326cc7ea-9bae-4059-ac1f-5ea4c2f01ccb",
   "metadata": {},
   "outputs": [
    {
     "data": {
      "text/plain": [
       "'iloc: Access rows and columns using integer positions.\\nExample:......'"
      ]
     },
     "execution_count": 10,
     "metadata": {},
     "output_type": "execute_result"
    }
   ],
   "source": [
    "'''iloc: Access rows and columns using integer positions.\n",
    "Example:......'''"
   ]
  },
  {
   "cell_type": "code",
   "execution_count": 11,
   "id": "923c639b-8deb-4a1a-9c1f-225deb94dc20",
   "metadata": {},
   "outputs": [
    {
     "name": "stdout",
     "output_type": "stream",
     "text": [
      "A    1\n",
      "B    4\n",
      "C    7\n",
      "Name: row1, dtype: int64\n"
     ]
    }
   ],
   "source": [
    "print(df.iloc[0])"
   ]
  },
  {
   "cell_type": "code",
   "execution_count": 12,
   "id": "742aff67-2b67-4037-8f27-b763fc3cd625",
   "metadata": {},
   "outputs": [],
   "source": [
    "# Q13.How do you handle missing values (NaN) in a DataFrame?"
   ]
  },
  {
   "cell_type": "code",
   "execution_count": 13,
   "id": "fbb52a26-6eb9-4ecb-8329-2bd527d7638c",
   "metadata": {},
   "outputs": [],
   "source": [
    "# 1. Detecting Missing Values"
   ]
  },
  {
   "cell_type": "code",
   "execution_count": 14,
   "id": "d7b8976d-fcce-42c8-87ba-efb31ad5b4e3",
   "metadata": {},
   "outputs": [
    {
     "data": {
      "text/html": [
       "<div>\n",
       "<style scoped>\n",
       "    .dataframe tbody tr th:only-of-type {\n",
       "        vertical-align: middle;\n",
       "    }\n",
       "\n",
       "    .dataframe tbody tr th {\n",
       "        vertical-align: top;\n",
       "    }\n",
       "\n",
       "    .dataframe thead th {\n",
       "        text-align: right;\n",
       "    }\n",
       "</style>\n",
       "<table border=\"1\" class=\"dataframe\">\n",
       "  <thead>\n",
       "    <tr style=\"text-align: right;\">\n",
       "      <th></th>\n",
       "      <th>A</th>\n",
       "      <th>B</th>\n",
       "      <th>C</th>\n",
       "    </tr>\n",
       "  </thead>\n",
       "  <tbody>\n",
       "    <tr>\n",
       "      <th>row1</th>\n",
       "      <td>False</td>\n",
       "      <td>False</td>\n",
       "      <td>False</td>\n",
       "    </tr>\n",
       "    <tr>\n",
       "      <th>row2</th>\n",
       "      <td>False</td>\n",
       "      <td>False</td>\n",
       "      <td>False</td>\n",
       "    </tr>\n",
       "    <tr>\n",
       "      <th>row3</th>\n",
       "      <td>False</td>\n",
       "      <td>False</td>\n",
       "      <td>False</td>\n",
       "    </tr>\n",
       "  </tbody>\n",
       "</table>\n",
       "</div>"
      ],
      "text/plain": [
       "          A      B      C\n",
       "row1  False  False  False\n",
       "row2  False  False  False\n",
       "row3  False  False  False"
      ]
     },
     "execution_count": 14,
     "metadata": {},
     "output_type": "execute_result"
    }
   ],
   "source": [
    "df.isnull()  # Returns a DataFrame of True/False\n"
   ]
  },
  {
   "cell_type": "code",
   "execution_count": 15,
   "id": "79eb2573-4de9-4586-8eb1-54507cf44244",
   "metadata": {},
   "outputs": [
    {
     "data": {
      "text/plain": [
       "False"
      ]
     },
     "execution_count": 15,
     "metadata": {},
     "output_type": "execute_result"
    }
   ],
   "source": [
    "df.isnull().any().any()  # Returns True if any NaN exists\n"
   ]
  },
  {
   "cell_type": "code",
   "execution_count": 16,
   "id": "6dff2e22-ece6-448f-a0cf-ae2c2d289218",
   "metadata": {},
   "outputs": [],
   "source": [
    "# 2. Removing Missing Values"
   ]
  },
  {
   "cell_type": "code",
   "execution_count": 17,
   "id": "77a97aaa-a795-4a48-a845-da9413e85984",
   "metadata": {},
   "outputs": [
    {
     "data": {
      "text/html": [
       "<div>\n",
       "<style scoped>\n",
       "    .dataframe tbody tr th:only-of-type {\n",
       "        vertical-align: middle;\n",
       "    }\n",
       "\n",
       "    .dataframe tbody tr th {\n",
       "        vertical-align: top;\n",
       "    }\n",
       "\n",
       "    .dataframe thead th {\n",
       "        text-align: right;\n",
       "    }\n",
       "</style>\n",
       "<table border=\"1\" class=\"dataframe\">\n",
       "  <thead>\n",
       "    <tr style=\"text-align: right;\">\n",
       "      <th></th>\n",
       "      <th>A</th>\n",
       "      <th>B</th>\n",
       "      <th>C</th>\n",
       "    </tr>\n",
       "  </thead>\n",
       "  <tbody>\n",
       "    <tr>\n",
       "      <th>row1</th>\n",
       "      <td>1</td>\n",
       "      <td>4</td>\n",
       "      <td>7</td>\n",
       "    </tr>\n",
       "    <tr>\n",
       "      <th>row2</th>\n",
       "      <td>2</td>\n",
       "      <td>5</td>\n",
       "      <td>8</td>\n",
       "    </tr>\n",
       "    <tr>\n",
       "      <th>row3</th>\n",
       "      <td>3</td>\n",
       "      <td>6</td>\n",
       "      <td>9</td>\n",
       "    </tr>\n",
       "  </tbody>\n",
       "</table>\n",
       "</div>"
      ],
      "text/plain": [
       "      A  B  C\n",
       "row1  1  4  7\n",
       "row2  2  5  8\n",
       "row3  3  6  9"
      ]
     },
     "execution_count": 17,
     "metadata": {},
     "output_type": "execute_result"
    }
   ],
   "source": [
    "df.dropna()  # Removes rows containing any NaN\n"
   ]
  },
  {
   "cell_type": "code",
   "execution_count": 18,
   "id": "b3f45096-5611-4687-bf7c-619560c33d0a",
   "metadata": {},
   "outputs": [
    {
     "data": {
      "text/html": [
       "<div>\n",
       "<style scoped>\n",
       "    .dataframe tbody tr th:only-of-type {\n",
       "        vertical-align: middle;\n",
       "    }\n",
       "\n",
       "    .dataframe tbody tr th {\n",
       "        vertical-align: top;\n",
       "    }\n",
       "\n",
       "    .dataframe thead th {\n",
       "        text-align: right;\n",
       "    }\n",
       "</style>\n",
       "<table border=\"1\" class=\"dataframe\">\n",
       "  <thead>\n",
       "    <tr style=\"text-align: right;\">\n",
       "      <th></th>\n",
       "      <th>A</th>\n",
       "      <th>B</th>\n",
       "      <th>C</th>\n",
       "    </tr>\n",
       "  </thead>\n",
       "  <tbody>\n",
       "    <tr>\n",
       "      <th>row1</th>\n",
       "      <td>1</td>\n",
       "      <td>4</td>\n",
       "      <td>7</td>\n",
       "    </tr>\n",
       "    <tr>\n",
       "      <th>row2</th>\n",
       "      <td>2</td>\n",
       "      <td>5</td>\n",
       "      <td>8</td>\n",
       "    </tr>\n",
       "    <tr>\n",
       "      <th>row3</th>\n",
       "      <td>3</td>\n",
       "      <td>6</td>\n",
       "      <td>9</td>\n",
       "    </tr>\n",
       "  </tbody>\n",
       "</table>\n",
       "</div>"
      ],
      "text/plain": [
       "      A  B  C\n",
       "row1  1  4  7\n",
       "row2  2  5  8\n",
       "row3  3  6  9"
      ]
     },
     "execution_count": 18,
     "metadata": {},
     "output_type": "execute_result"
    }
   ],
   "source": [
    "df.dropna(axis=1)  # Removes columns containing any NaN\n"
   ]
  },
  {
   "cell_type": "code",
   "execution_count": 20,
   "id": "d0fb820a-99f6-40bd-8627-e4e60d6d9c25",
   "metadata": {},
   "outputs": [],
   "source": [
    "import pandas as pd\n",
    "import numpy as np"
   ]
  },
  {
   "cell_type": "code",
   "execution_count": 21,
   "id": "4d492dc1-01ec-4815-abc1-7bee77632f55",
   "metadata": {},
   "outputs": [],
   "source": [
    "# Sample DataFrame with missing values\n",
    "data = {\n",
    "    'A': [1, np.nan, 3],\n",
    "    'B': [4, 5, np.nan],\n",
    "    'C': [np.nan, 8, 9]\n",
    "}"
   ]
  },
  {
   "cell_type": "code",
   "execution_count": 22,
   "id": "ed1f102b-7cef-4f6e-a1bf-ada0eba28cc7",
   "metadata": {},
   "outputs": [],
   "source": [
    "df = pd.DataFrame(data)"
   ]
  },
  {
   "cell_type": "code",
   "execution_count": 23,
   "id": "309f6360-6344-486a-bd10-92984e98d830",
   "metadata": {},
   "outputs": [
    {
     "name": "stdout",
     "output_type": "stream",
     "text": [
      "       A      B      C\n",
      "0  False  False   True\n",
      "1   True  False  False\n",
      "2  False   True  False\n"
     ]
    }
   ],
   "source": [
    "# Detect missing values\n",
    "print(df.isnull())"
   ]
  },
  {
   "cell_type": "code",
   "execution_count": 24,
   "id": "e71719bc-f83f-4407-92f5-bf03e94f95e2",
   "metadata": {},
   "outputs": [],
   "source": [
    "# Drop rows with NaN\n",
    "df_cleaned = df.dropna()"
   ]
  },
  {
   "cell_type": "code",
   "execution_count": 1,
   "id": "3c8321f1-20e2-4cb9-9e03-36719945784c",
   "metadata": {},
   "outputs": [],
   "source": [
    "# Q14.How do you filter rows in a DataFrame based on conditions?"
   ]
  },
  {
   "cell_type": "code",
   "execution_count": 2,
   "id": "706e07a5-8d19-40ec-aa25-3ad588814f41",
   "metadata": {},
   "outputs": [
    {
     "name": "stdout",
     "output_type": "stream",
     "text": [
      "   A   B\n",
      "2  3  30\n",
      "3  4  40\n"
     ]
    }
   ],
   "source": [
    "import pandas as pd\n",
    "\n",
    "# Example DataFrame\n",
    "data = {'A': [1, 2, 3, 4], 'B': [10, 20, 30, 40]}\n",
    "df = pd.DataFrame(data)\n",
    "\n",
    "# Filter rows where column A > 2\n",
    "filtered_df = df[df['A'] > 2]\n",
    "\n",
    "print(filtered_df)\n"
   ]
  },
  {
   "cell_type": "code",
   "execution_count": 3,
   "id": "4d91c401-4b9f-4d55-b0a7-a1cd2936c893",
   "metadata": {},
   "outputs": [],
   "source": [
    "# Q15.How do you group data in a DataFrame and perform aggregations?"
   ]
  },
  {
   "cell_type": "code",
   "execution_count": 4,
   "id": "9f8b3e95-ce4a-417f-a48e-4519fcc407c6",
   "metadata": {},
   "outputs": [
    {
     "name": "stdout",
     "output_type": "stream",
     "text": [
      "Category\n",
      "A    35\n",
      "B    45\n",
      "Name: Values, dtype: int64\n"
     ]
    }
   ],
   "source": [
    "import pandas as pd\n",
    "\n",
    "# Example DataFrame\n",
    "data = {'Category': ['A', 'B', 'A', 'B', 'A'], \n",
    "        'Values': [10, 20, 15, 25, 10]}\n",
    "df = pd.DataFrame(data)\n",
    "\n",
    "# Group by 'Category' and calculate the sum of 'Values'\n",
    "grouped = df.groupby('Category')['Values'].sum()\n",
    "\n",
    "print(grouped)\n"
   ]
  },
  {
   "cell_type": "code",
   "execution_count": 5,
   "id": "d6728ac4-f147-47f0-b770-020a664515ee",
   "metadata": {},
   "outputs": [
    {
     "name": "stdout",
     "output_type": "stream",
     "text": [
      "          sum       mean  count\n",
      "Category                       \n",
      "A          35  11.666667      3\n",
      "B          45  22.500000      2\n"
     ]
    }
   ],
   "source": [
    "# Calculate multiple aggregations\n",
    "grouped = df.groupby('Category')['Values'].agg(['sum', 'mean', 'count'])\n",
    "\n",
    "print(grouped)\n"
   ]
  },
  {
   "cell_type": "code",
   "execution_count": 6,
   "id": "561f3578-7251-4fae-97df-40da47154f89",
   "metadata": {},
   "outputs": [],
   "source": [
    "# Q16.What is the difference between concat and merge in Pandas?"
   ]
  },
  {
   "cell_type": "code",
   "execution_count": 7,
   "id": "bf9f37ae-7ce6-42d5-9aef-c8b27df614fd",
   "metadata": {},
   "outputs": [
    {
     "data": {
      "text/plain": [
       "'1. concat:\\nThe concat function is used to concatenate (stack) DataFrames along rows or columns.\\n\\nKey Features:\\nCombines DataFrames along a specified axis (0 for rows, 1 for columns).\\nNo merging logic; it simply appends DataFrames, aligning by index or columns.\\nRetains all data unless specified otherwise.'"
      ]
     },
     "execution_count": 7,
     "metadata": {},
     "output_type": "execute_result"
    }
   ],
   "source": [
    "'''1. concat:\n",
    "The concat function is used to concatenate (stack) DataFrames along rows or columns.\n",
    "\n",
    "Key Features:\n",
    "Combines DataFrames along a specified axis (0 for rows, 1 for columns).\n",
    "No merging logic; it simply appends DataFrames, aligning by index or columns.\n",
    "Retains all data unless specified otherwise.'''"
   ]
  },
  {
   "cell_type": "code",
   "execution_count": 8,
   "id": "25a63c48-69b0-4459-a05e-d1d1092402f9",
   "metadata": {},
   "outputs": [],
   "source": [
    "#Example"
   ]
  },
  {
   "cell_type": "code",
   "execution_count": 9,
   "id": "4bb85ac9-5909-4a25-a228-530d4e5dbcdd",
   "metadata": {},
   "outputs": [
    {
     "name": "stdout",
     "output_type": "stream",
     "text": [
      "   A  B\n",
      "0  1  3\n",
      "1  2  4\n",
      "0  5  7\n",
      "1  6  8\n"
     ]
    }
   ],
   "source": [
    "import pandas as pd\n",
    "\n",
    "df1 = pd.DataFrame({'A': [1, 2], 'B': [3, 4]})\n",
    "df2 = pd.DataFrame({'A': [5, 6], 'B': [7, 8]})\n",
    "\n",
    "result = pd.concat([df1, df2], axis=0)\n",
    "\n",
    "print(result)\n"
   ]
  },
  {
   "cell_type": "code",
   "execution_count": 10,
   "id": "63099fe8-74e0-4ecd-8319-867e5ebf343b",
   "metadata": {},
   "outputs": [
    {
     "data": {
      "text/plain": [
       "'2. merge\\nThe merge function is used to combine DataFrames based on common columns or indices, similar to SQL joins.\\n\\nKey Features:\\nImplements join operations (inner, outer, left, right).\\nCombines rows by matching values in specified columns or indices.\\nRequires a key column(s) for merging.'"
      ]
     },
     "execution_count": 10,
     "metadata": {},
     "output_type": "execute_result"
    }
   ],
   "source": [
    "'''2. merge\n",
    "The merge function is used to combine DataFrames based on common columns or indices, similar to SQL joins.\n",
    "\n",
    "Key Features:\n",
    "Implements join operations (inner, outer, left, right).\n",
    "Combines rows by matching values in specified columns or indices.\n",
    "Requires a key column(s) for merging.'''"
   ]
  },
  {
   "cell_type": "code",
   "execution_count": 11,
   "id": "a31e07f4-e652-44f1-b63d-311180589806",
   "metadata": {},
   "outputs": [
    {
     "name": "stdout",
     "output_type": "stream",
     "text": [
      "   ID   Name  Score\n",
      "0   1    Ali     85\n",
      "1   3  Usman     95\n"
     ]
    }
   ],
   "source": [
    "df1 = pd.DataFrame({'ID': [1, 2, 3], 'Name': ['Ali', 'Bilal', 'Usman']})\n",
    "df2 = pd.DataFrame({'ID': [1, 3, 4], 'Score': [85, 95, 75]})\n",
    "\n",
    "result = pd.merge(df1, df2, on='ID')\n",
    "\n",
    "print(result)\n"
   ]
  },
  {
   "cell_type": "code",
   "execution_count": 13,
   "id": "8fcee589-7b0b-41bd-86d4-b71078b23134",
   "metadata": {},
   "outputs": [
    {
     "data": {
      "text/plain": [
       "'Q17.You have two DataFrames with some overlapping columns.\\nDescribe how you would perform an outer join and explain the significance of an outer join compared to an inner join'"
      ]
     },
     "execution_count": 13,
     "metadata": {},
     "output_type": "execute_result"
    }
   ],
   "source": [
    "'''Q17.You have two DataFrames with some overlapping columns.\n",
    "Describe how you would perform an outer join and explain the significance of an outer join compared to an inner join'''"
   ]
  },
  {
   "cell_type": "code",
   "execution_count": 14,
   "id": "e6fdeff4-6274-4343-910f-c20eb8d19227",
   "metadata": {},
   "outputs": [
    {
     "data": {
      "text/plain": [
       "\" To perform an outer join with two DataFrames that have overlapping columns, you would use the merge function in pandas and \\nspecify the how='outer' parameter.\""
      ]
     },
     "execution_count": 14,
     "metadata": {},
     "output_type": "execute_result"
    }
   ],
   "source": [
    "''' To perform an outer join with two DataFrames that have overlapping columns, you would use the merge function in pandas and \n",
    "specify the how='outer' parameter.'''"
   ]
  },
  {
   "cell_type": "code",
   "execution_count": 15,
   "id": "c0c20af6-bea7-4853-b5ae-b1731fd48935",
   "metadata": {},
   "outputs": [
    {
     "name": "stdout",
     "output_type": "stream",
     "text": [
      "   ID     Name  Score\n",
      "0   1    Alice    NaN\n",
      "1   2      Bob    NaN\n",
      "2   3  Charlie   95.0\n",
      "3   4      NaN   85.0\n",
      "4   5      NaN   75.0\n"
     ]
    }
   ],
   "source": [
    "import pandas as pd\n",
    "\n",
    "# Example DataFrames\n",
    "df1 = pd.DataFrame({\n",
    "    'ID': [1, 2, 3],\n",
    "    'Name': ['Alice', 'Bob', 'Charlie']\n",
    "})\n",
    "\n",
    "df2 = pd.DataFrame({\n",
    "    'ID': [3, 4, 5],\n",
    "    'Score': [95, 85, 75]\n",
    "})\n",
    "\n",
    "# Perform an outer join on the 'ID' column\n",
    "result = pd.merge(df1, df2, on='ID', how='outer')\n",
    "\n",
    "print(result)\n"
   ]
  },
  {
   "cell_type": "code",
   "execution_count": 17,
   "id": "76892514-0044-4a21-b198-08ae8e1bd5ee",
   "metadata": {},
   "outputs": [
    {
     "data": {
      "text/plain": [
       "'Significance of an Outer Join:\\nRetains All Data: Ensures all rows from both DataFrames are included.\\nHandles Missing Data: Highlights missing information by using NaN where there are no matches.\\nUseful for Union: Combines datasets comprehensively without discarding unmatched rows.'"
      ]
     },
     "execution_count": 17,
     "metadata": {},
     "output_type": "execute_result"
    }
   ],
   "source": [
    "'''Significance of an Outer Join:\n",
    "Retains All Data: Ensures all rows from both DataFrames are included.\n",
    "Handles Missing Data: Highlights missing information by using NaN where there are no matches.\n",
    "Useful for Union: Combines datasets comprehensively without discarding unmatched rows.'''"
   ]
  },
  {
   "cell_type": "code",
   "execution_count": 18,
   "id": "fe134f99-9a6c-4e74-9990-ad15347cd4c2",
   "metadata": {},
   "outputs": [],
   "source": [
    "# Q18.Explain the concept of vectorization in NumPy. How does it improve the performance of numerical computations?"
   ]
  },
  {
   "cell_type": "code",
   "execution_count": 19,
   "id": "8fa1d2b1-0c86-4ffa-9628-38b360ef9b42",
   "metadata": {},
   "outputs": [
    {
     "data": {
      "text/plain": [
       "'Vectorization in NumPy refers to the process of performing operations on entire arrays (or vectors) without the need for explicit loops in Python.\\nIt allows you to apply operations element-wise to arrays directly'"
      ]
     },
     "execution_count": 19,
     "metadata": {},
     "output_type": "execute_result"
    }
   ],
   "source": [
    "'''Vectorization in NumPy refers to the process of performing operations on entire arrays (or vectors) without the need for explicit loops in Python.\n",
    "It allows you to apply operations element-wise to arrays directly'''"
   ]
  },
  {
   "cell_type": "code",
   "execution_count": 21,
   "id": "81d7e79c-5986-4db8-85c8-ec237e34a397",
   "metadata": {},
   "outputs": [
    {
     "data": {
      "text/plain": [
       "'Vectorization Improves Performance because:\\n1. Eliminates Python Loops.\\n2. Leverages SIMD Operations.\\n3. Memory Efficiency.\\n4. Parallelism.\\n5. Code Simplicity.'"
      ]
     },
     "execution_count": 21,
     "metadata": {},
     "output_type": "execute_result"
    }
   ],
   "source": [
    "'''Vectorization Improves Performance because:\n",
    "1. Eliminates Python Loops.\n",
    "2. Leverages SIMD Operations.\n",
    "3. Memory Efficiency.\n",
    "4. Parallelism.\n",
    "5. Code Simplicity.'''"
   ]
  },
  {
   "cell_type": "code",
   "execution_count": 22,
   "id": "d417cd18-778e-4430-98cb-e8cad1a2b448",
   "metadata": {},
   "outputs": [
    {
     "data": {
      "text/plain": [
       "' Q19.You have a DataFrame with a column containing dates. How would you: \\n(a) Convert the date column to a datetime object? \\n(b) Extract the year, month,and day from the dates? \\n(c) Filter the DataFrame to select data from a specific date range?'"
      ]
     },
     "execution_count": 22,
     "metadata": {},
     "output_type": "execute_result"
    }
   ],
   "source": [
    "''' Q19.You have a DataFrame with a column containing dates. How would you: \n",
    "(a) Convert the date column to a datetime object? \n",
    "(b) Extract the year, month,and day from the dates? \n",
    "(c) Filter the DataFrame to select data from a specific date range?'''\n"
   ]
  },
  {
   "cell_type": "code",
   "execution_count": 23,
   "id": "191fdc6f-62f3-49d5-8394-05cc3ed4e7ac",
   "metadata": {},
   "outputs": [
    {
     "name": "stdout",
     "output_type": "stream",
     "text": [
      "        Date  Value\n",
      "0 2023-01-01     10\n",
      "1 2023-02-15     20\n",
      "2 2023-03-10     30\n"
     ]
    }
   ],
   "source": [
    "import pandas as pd\n",
    "\n",
    "# Example DataFrame\n",
    "data = {'Date': ['2023-01-01', '2023-02-15', '2023-03-10'], 'Value': [10, 20, 30]}\n",
    "df = pd.DataFrame(data)\n",
    "\n",
    "# Convert 'Date' column to datetime\n",
    "df['Date'] = pd.to_datetime(df['Date'])\n",
    "\n",
    "print(df)\n"
   ]
  },
  {
   "cell_type": "code",
   "execution_count": 24,
   "id": "98ded5e9-4335-47f7-a062-e514965035d2",
   "metadata": {},
   "outputs": [
    {
     "name": "stdout",
     "output_type": "stream",
     "text": [
      "        Date  Value  Year  Month  Day\n",
      "0 2023-01-01     10  2023      1    1\n",
      "1 2023-02-15     20  2023      2   15\n",
      "2 2023-03-10     30  2023      3   10\n"
     ]
    }
   ],
   "source": [
    "# Extract year, month, and day into new columns\n",
    "df['Year'] = df['Date'].dt.year\n",
    "df['Month'] = df['Date'].dt.month\n",
    "df['Day'] = df['Date'].dt.day\n",
    "\n",
    "print(df)\n"
   ]
  },
  {
   "cell_type": "code",
   "execution_count": 25,
   "id": "766f0812-656f-47c4-91cf-c801cd3dd3b8",
   "metadata": {},
   "outputs": [
    {
     "name": "stdout",
     "output_type": "stream",
     "text": [
      "        Date  Value  Year  Month  Day\n",
      "0 2023-01-01     10  2023      1    1\n",
      "1 2023-02-15     20  2023      2   15\n"
     ]
    }
   ],
   "source": [
    "# Define the date range\n",
    "start_date = '2023-01-01'\n",
    "end_date = '2023-02-28'\n",
    "\n",
    "# Filter rows where 'Date' is within the range\n",
    "filtered_df = df[(df['Date'] >= start_date) & (df['Date'] <= end_date)]\n",
    "\n",
    "print(filtered_df)\n"
   ]
  },
  {
   "cell_type": "code",
   "execution_count": 26,
   "id": "f3168cbf-c154-46af-b756-921ce16ec49f",
   "metadata": {},
   "outputs": [
    {
     "data": {
      "text/plain": [
       "'Q 20.Describe a scenario where you would use a GroupBy operation in Pandas,\\nand explain how you would perform an aggregation (e.g., calculate the\\naverage) within each group.'"
      ]
     },
     "execution_count": 26,
     "metadata": {},
     "output_type": "execute_result"
    }
   ],
   "source": [
    "'''Q 20.Describe a scenario where you would use a GroupBy operation in Pandas,\n",
    "and explain how you would perform an aggregation (e.g., calculate the\n",
    "average) within each group.'''"
   ]
  },
  {
   "cell_type": "code",
   "execution_count": 27,
   "id": "55c3edaa-383a-4247-a2c2-034088f98de8",
   "metadata": {},
   "outputs": [
    {
     "name": "stdout",
     "output_type": "stream",
     "text": [
      "      Category  Sales\n",
      "0  Electronics    200\n",
      "1     Clothing    150\n",
      "2  Electronics    300\n",
      "3     Clothing    100\n",
      "4    Furniture    400\n"
     ]
    }
   ],
   "source": [
    "import pandas as pd\n",
    "\n",
    "# Sample DataFrame\n",
    "data = {\n",
    "    'Category': ['Electronics', 'Clothing', 'Electronics', 'Clothing', 'Furniture'],\n",
    "    'Sales': [200, 150, 300, 100, 400]\n",
    "}\n",
    "df = pd.DataFrame(data)\n",
    "\n",
    "print(df)\n"
   ]
  },
  {
   "cell_type": "code",
   "execution_count": 28,
   "id": "52af4010-27cf-435d-9cb3-2c5b824432ed",
   "metadata": {},
   "outputs": [
    {
     "name": "stdout",
     "output_type": "stream",
     "text": [
      "Category\n",
      "Clothing       125.0\n",
      "Electronics    250.0\n",
      "Furniture      400.0\n",
      "Name: Sales, dtype: float64\n"
     ]
    }
   ],
   "source": [
    "# Group by 'Category' and calculate the average sales\n",
    "average_sales = df.groupby('Category')['Sales'].mean()\n",
    "\n",
    "print(average_sales)\n"
   ]
  },
  {
   "cell_type": "code",
   "execution_count": 29,
   "id": "35f894c4-de77-4dea-972b-97fca57942df",
   "metadata": {
    "scrolled": true
   },
   "outputs": [
    {
     "name": "stdout",
     "output_type": "stream",
     "text": [
      "      Category  Sales  Average_Sales\n",
      "0  Electronics    200          250.0\n",
      "1     Clothing    150          125.0\n",
      "2  Electronics    300          250.0\n",
      "3     Clothing    100          125.0\n",
      "4    Furniture    400          400.0\n"
     ]
    }
   ],
   "source": [
    "# Add average sales for each category to the original DataFrame\n",
    "df['Average_Sales'] = df.groupby('Category')['Sales'].transform('mean')\n",
    "\n",
    "print(df)\n"
   ]
  }
 ],
 "metadata": {
  "kernelspec": {
   "display_name": "Python 3 (ipykernel)",
   "language": "python",
   "name": "python3"
  },
  "language_info": {
   "codemirror_mode": {
    "name": "ipython",
    "version": 3
   },
   "file_extension": ".py",
   "mimetype": "text/x-python",
   "name": "python",
   "nbconvert_exporter": "python",
   "pygments_lexer": "ipython3",
   "version": "3.11.7"
  }
 },
 "nbformat": 4,
 "nbformat_minor": 5
}
