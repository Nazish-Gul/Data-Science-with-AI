{
 "cells": [
  {
   "cell_type": "code",
   "execution_count": 1,
   "id": "f7a7ba8d-bb98-4b81-a6d1-e2427fe6f1e1",
   "metadata": {},
   "outputs": [],
   "source": [
    "# Q1.What is Python, and why is it widely used in data science?"
   ]
  },
  {
   "cell_type": "code",
   "execution_count": 4,
   "id": "e1b10f56-6521-4971-8686-9486e2916f82",
   "metadata": {},
   "outputs": [
    {
     "data": {
      "text/plain": [
       "'Python:\\nPython is a high-level, interpreted programming language known for its simplicity and readability.\\nPython is widely used in daata science due to its:\\n1. Ease of learning and use\\n2. Rich ecosystem of libraries\\n3. Active community support\\n4. Platform independence\\n5. Support of big data and machine learninng\\n6. Visualization capabilities\\n7. Scalability\\n8. Integration and versaality\\n9. Popularity in Academia and Industry'"
      ]
     },
     "execution_count": 4,
     "metadata": {},
     "output_type": "execute_result"
    }
   ],
   "source": [
    "'''Python:\n",
    "Python is a high-level, interpreted programming language known for its simplicity and readability.\n",
    "Python is widely used in daata science due to its:\n",
    "1. Ease of learning and use\n",
    "2. Rich ecosystem of libraries\n",
    "3. Active community support\n",
    "4. Platform independence\n",
    "5. Support of big data and machine learninng\n",
    "6. Visualization capabilities\n",
    "7. Scalability\n",
    "8. Integration and versaality\n",
    "9. Popularity in Academia and Industry'''"
   ]
  },
  {
   "cell_type": "code",
   "execution_count": 5,
   "id": "055e46ee-4d2a-4bea-aef6-e8d443d3651f",
   "metadata": {},
   "outputs": [],
   "source": [
    "# Q2.Explain the difference between a variable and a constant in Python."
   ]
  },
  {
   "cell_type": "code",
   "execution_count": 6,
   "id": "763a8c25-1fe9-4a58-848e-2c5abf3407cb",
   "metadata": {},
   "outputs": [
    {
     "data": {
      "text/plain": [
       "\"1. Variable\\nA variable is a named storage location in memory that can hold a value, and its value can be changed during the program's execution.\\n2. Constant\\nA constant is a value that remains unchanged during the execution of the program.\""
      ]
     },
     "execution_count": 6,
     "metadata": {},
     "output_type": "execute_result"
    }
   ],
   "source": [
    "'''1. Variable\n",
    "A variable is a named storage location in memory that can hold a value, and its value can be changed during the program's execution.\n",
    "2. Constant\n",
    "A constant is a value that remains unchanged during the execution of the program.'''"
   ]
  },
  {
   "cell_type": "code",
   "execution_count": 7,
   "id": "623dc126-8e23-4f50-9c00-31a8775f413a",
   "metadata": {},
   "outputs": [],
   "source": [
    "# Q3.How do you create a Python dictionary, and how is it different from a list?"
   ]
  },
  {
   "cell_type": "code",
   "execution_count": 9,
   "id": "4b166318-8949-43f7-ae8c-d84c9c082192",
   "metadata": {},
   "outputs": [
    {
     "data": {
      "text/plain": [
       "'A Python dictionary is created using curly braces {} with key-value pairs, e.g., my_dict = {\"key1\": \"value1\", \"key2\": \"value2\"}.\\nIt differs from a list because dictionaries store data as key-value pairs (unordered), while lists store ordered, indexed elements.\\nExample:\\nmy_dict = {\"name\": \"Alice\", \"age\": 25, \"city\": \"New York\"}\\nmy_list = [\"Alice\", 25, \"New York\"]'"
      ]
     },
     "execution_count": 9,
     "metadata": {},
     "output_type": "execute_result"
    }
   ],
   "source": [
    "'''A Python dictionary is created using curly braces {} with key-value pairs, e.g., my_dict = {\"key1\": \"value1\", \"key2\": \"value2\"}.\n",
    "It differs from a list because dictionaries store data as key-value pairs (unordered), while lists store ordered, indexed elements.\n",
    "Example:\n",
    "my_dict = {\"name\": \"Alice\", \"age\": 25, \"city\": \"New York\"}\n",
    "my_list = [\"Alice\", 25, \"New York\"]'''"
   ]
  },
  {
   "cell_type": "code",
   "execution_count": 10,
   "id": "443d6da0-1070-408f-bca3-79b445880418",
   "metadata": {},
   "outputs": [],
   "source": [
    "# Q4.What are Python tuples, and when would you use them over lists?"
   ]
  },
  {
   "cell_type": "code",
   "execution_count": 11,
   "id": "b9bc801c-5dfa-4303-a395-2ce52a6f91cb",
   "metadata": {},
   "outputs": [
    {
     "data": {
      "text/plain": [
       "'A tuple is an immutable, ordered collection of elements in Python, defined using parentheses (). \\nTuples can hold a mix of data types and allow duplicate values.\\nExample:\\nmy_tuple = (1, \"apple\", 3.14)\\nWhen to Use:\\n1. When you want to ensure the data cannot be changed after creation.\\nExample: Storing fixed configuration settings or constants:\\nconfig = (\"localhost\", 8080)\\n2. Tuples are more memory-efficient and faster than lists for read-only operations.\\n3. To protect data integrity by preventing accidental modification. Example: Representing days of the week:\\ndays = (\"Monday\", \"Tuesday\", \"Wednesday\")\\n4. Tuples can be used as keys in dictionaries (because they are hashable), while lists cannot:\\nmy_dict = {(1, 2): \"Point A\", (3, 4): \"Point B\"}\\n5. Functions often return tuples to provide multiple values at once. Example:\\ndef get_coordinates():\\n    return (10.5, 20.7)\\nx, y = get_coordinates()'"
      ]
     },
     "execution_count": 11,
     "metadata": {},
     "output_type": "execute_result"
    }
   ],
   "source": [
    "'''A tuple is an immutable, ordered collection of elements in Python, defined using parentheses (). \n",
    "Tuples can hold a mix of data types and allow duplicate values.\n",
    "Example:\n",
    "my_tuple = (1, \"apple\", 3.14)\n",
    "When to Use:\n",
    "1. When you want to ensure the data cannot be changed after creation.\n",
    "Example: Storing fixed configuration settings or constants:\n",
    "config = (\"localhost\", 8080)\n",
    "2. Tuples are more memory-efficient and faster than lists for read-only operations.\n",
    "3. To protect data integrity by preventing accidental modification. Example: Representing days of the week:\n",
    "days = (\"Monday\", \"Tuesday\", \"Wednesday\")\n",
    "4. Tuples can be used as keys in dictionaries (because they are hashable), while lists cannot:\n",
    "my_dict = {(1, 2): \"Point A\", (3, 4): \"Point B\"}\n",
    "5. Functions often return tuples to provide multiple values at once. Example:\n",
    "def get_coordinates():\n",
    "    return (10.5, 20.7)\n",
    "x, y = get_coordinates()'''\n"
   ]
  },
  {
   "cell_type": "code",
   "execution_count": 12,
   "id": "b1aa5401-005f-480e-b289-5ffdf3dffe75",
   "metadata": {},
   "outputs": [],
   "source": [
    "# Q 5.Write a Python function that takes two numbers as arguments and returns their sum."
   ]
  },
  {
   "cell_type": "code",
   "execution_count": 14,
   "id": "73235ad2-d22b-4b91-b240-3c861ca9ada8",
   "metadata": {},
   "outputs": [],
   "source": [
    "def add_numbers(a, b):\n",
    "    \"\"\"Returns the sum of two numbers.\"\"\"\n",
    "    return a + b"
   ]
  },
  {
   "cell_type": "code",
   "execution_count": 15,
   "id": "fb6ad3fe-e43c-433f-aca1-761e948c1bd7",
   "metadata": {},
   "outputs": [],
   "source": [
    "# Example usage:\n",
    "result = add_numbers(5, 3)"
   ]
  },
  {
   "cell_type": "code",
   "execution_count": 16,
   "id": "94f38e62-7b0c-4b30-a5cc-4fab8f8c6677",
   "metadata": {},
   "outputs": [
    {
     "name": "stdout",
     "output_type": "stream",
     "text": [
      "8\n"
     ]
    }
   ],
   "source": [
    "print(result)"
   ]
  },
  {
   "cell_type": "code",
   "execution_count": 17,
   "id": "77f589b7-e993-45f2-baab-6c581563b845",
   "metadata": {},
   "outputs": [],
   "source": [
    "# Q 6.Explain the difference between axis 0 and axis 1 in NumPy."
   ]
  },
  {
   "cell_type": "code",
   "execution_count": 18,
   "id": "5f278557-e9c5-4d41-bb02-0dc5016061e0",
   "metadata": {},
   "outputs": [],
   "source": [
    " # InNumPy, the terms axis 0 and axis 1 refer to the dimensions along which operations are performed in multi-dimensional arrays.\n"
   ]
  },
  {
   "cell_type": "code",
   "execution_count": 22,
   "id": "68f1f40d-c1e4-4c30-bcef-130db1387f74",
   "metadata": {},
   "outputs": [
    {
     "data": {
      "text/plain": [
       "'axis 0 (Rows)\\nRepresents the vertical dimension (rows).\\nOperations along axis 0 are performed column-wise.\\nOften referred to as the \"row axis.\"\\nExample:\\n.....'"
      ]
     },
     "execution_count": 22,
     "metadata": {},
     "output_type": "execute_result"
    }
   ],
   "source": [
    "'''axis 0 (Rows)\n",
    "Represents the vertical dimension (rows).\n",
    "Operations along axis 0 are performed column-wise.\n",
    "Often referred to as the \"row axis.\"\n",
    "Example:\n",
    ".....'''"
   ]
  },
  {
   "cell_type": "code",
   "execution_count": 21,
   "id": "e9c09b66-2e78-45f8-95d1-624b2a319f7a",
   "metadata": {},
   "outputs": [
    {
     "name": "stdout",
     "output_type": "stream",
     "text": [
      "[12 15 18]\n"
     ]
    }
   ],
   "source": [
    "import numpy as np\n",
    "array = np.array([[1, 2, 3],\n",
    "                  [4, 5, 6],\n",
    "                  [7, 8, 9]])\n",
    "\n",
    "# Summing along axis 0\n",
    "result = np.sum(array, axis=0)\n",
    "print(result)  # Output: (sum of each column)\n"
   ]
  },
  {
   "cell_type": "code",
   "execution_count": 24,
   "id": "714fbd94-d043-4c9e-b75f-cb3ac1748b2b",
   "metadata": {},
   "outputs": [
    {
     "data": {
      "text/plain": [
       "'Axis 1 (Columns)\\nRepresents the horizontal dimension (columns).\\nOperations along axis 1 are performed row-wise.\\nOften referred to as the \"column axis.\"\\nExample:.......'"
      ]
     },
     "execution_count": 24,
     "metadata": {},
     "output_type": "execute_result"
    }
   ],
   "source": [
    "'''Axis 1 (Columns)\n",
    "Represents the horizontal dimension (columns).\n",
    "Operations along axis 1 are performed row-wise.\n",
    "Often referred to as the \"column axis.\"\n",
    "Example:.......'''"
   ]
  },
  {
   "cell_type": "code",
   "execution_count": 25,
   "id": "98e14026-e22d-40a6-8054-cdca072a12cb",
   "metadata": {},
   "outputs": [
    {
     "name": "stdout",
     "output_type": "stream",
     "text": [
      "[ 6 15 24]\n"
     ]
    }
   ],
   "source": [
    "# Summing along axis 1\n",
    "result = np.sum(array, axis=1)\n",
    "print(result)  # Output: (sum of each row)\n"
   ]
  },
  {
   "cell_type": "code",
   "execution_count": 26,
   "id": "2747cc5c-730e-4acd-ac6d-8f186fe269f7",
   "metadata": {},
   "outputs": [],
   "source": [
    "# Q7.What are some common aggregation functions in NumPy (e.g., sum, mean)? Provide examples."
   ]
  },
  {
   "cell_type": "code",
   "execution_count": 1,
   "id": "e4a1496f-7a35-417e-9c42-3ef2e817feff",
   "metadata": {},
   "outputs": [
    {
     "data": {
      "text/plain": [
       "'NumPy is a powerful library for numerical computing in Python.\\nIt provides several useful aggregation functions to perform operations on arrays.\\nExamples:....'"
      ]
     },
     "execution_count": 1,
     "metadata": {},
     "output_type": "execute_result"
    }
   ],
   "source": [
    "'''NumPy is a powerful library for numerical computing in Python.\n",
    "It provides several useful aggregation functions to perform operations on arrays.\n",
    "Examples:....'''"
   ]
  },
  {
   "cell_type": "code",
   "execution_count": 4,
   "id": "8ac3d695-b431-4b59-8ad7-2090eb4f6ee5",
   "metadata": {},
   "outputs": [],
   "source": [
    "#1.Sum(np.sum)"
   ]
  },
  {
   "cell_type": "code",
   "execution_count": 3,
   "id": "2493b707-2d21-45ca-a28b-5fbf06498d38",
   "metadata": {},
   "outputs": [
    {
     "name": "stdout",
     "output_type": "stream",
     "text": [
      "15\n"
     ]
    }
   ],
   "source": [
    "import numpy as np\n",
    "\n",
    "arr = np.array([1, 2, 3, 4, 5])\n",
    "total_sum = np.sum(arr)\n",
    "print(total_sum)  # Output: 15\n"
   ]
  },
  {
   "cell_type": "code",
   "execution_count": 5,
   "id": "0f210abb-893f-486d-8f19-042c4fa45204",
   "metadata": {},
   "outputs": [],
   "source": [
    "#2.Mean (np.mean)"
   ]
  },
  {
   "cell_type": "code",
   "execution_count": 6,
   "id": "f550e36c-d9a2-4916-8eaf-c32eac6d390a",
   "metadata": {},
   "outputs": [
    {
     "name": "stdout",
     "output_type": "stream",
     "text": [
      "3.0\n"
     ]
    }
   ],
   "source": [
    "mean_value = np.mean(arr)\n",
    "print(mean_value)  # Output: 3.0\n"
   ]
  },
  {
   "cell_type": "code",
   "execution_count": 7,
   "id": "dcd4d148-7edc-4348-9b41-1dd5eb0f721a",
   "metadata": {},
   "outputs": [],
   "source": [
    "# Q.8.What is broadcasting in NumPy? Explain with an example."
   ]
  },
  {
   "cell_type": "code",
   "execution_count": 8,
   "id": "6ead39c5-0171-45ae-80aa-39aa8c4241bb",
   "metadata": {},
   "outputs": [
    {
     "data": {
      "text/plain": [
       "'Broadcasting in NumPy refers to the ability to perform arithmetic operations on arrays of different shapes.\\nNumPy automatically expands the smaller array along the dimensions with size 1 or missing dimensions to match\\nthe shape of the larger array. This process makes array operations more efficient and concise.'"
      ]
     },
     "execution_count": 8,
     "metadata": {},
     "output_type": "execute_result"
    }
   ],
   "source": [
    "'''Broadcasting in NumPy refers to the ability to perform arithmetic operations on arrays of different shapes.\n",
    "NumPy automatically expands the smaller array along the dimensions with size 1 or missing dimensions to match\n",
    "the shape of the larger array. This process makes array operations more efficient and concise.'''"
   ]
  },
  {
   "cell_type": "code",
   "execution_count": 9,
   "id": "5e1afbfe-d3a2-44ec-bdc9-1dc24bc4b769",
   "metadata": {},
   "outputs": [],
   "source": [
    "#Example: Adding a Vector to a Matrix"
   ]
  },
  {
   "cell_type": "code",
   "execution_count": 10,
   "id": "47f4fa38-2bda-45a2-8588-1e261530b6cd",
   "metadata": {},
   "outputs": [
    {
     "name": "stdout",
     "output_type": "stream",
     "text": [
      "Matrix:\n",
      " [[1 2 3]\n",
      " [4 5 6]]\n",
      "Vector:\n",
      " [1 2 3]\n",
      "Result:\n",
      " [[2 4 6]\n",
      " [5 7 9]]\n"
     ]
    }
   ],
   "source": [
    "import numpy as np\n",
    "\n",
    "# 2x3 matrix\n",
    "matrix = np.array([[1, 2, 3],\n",
    "                   [4, 5, 6]])\n",
    "\n",
    "# 1x3 vector\n",
    "vector = np.array([1, 2, 3])\n",
    "\n",
    "# Add the vector to each row of the matrix using broadcasting\n",
    "result = matrix + vector\n",
    "\n",
    "print(\"Matrix:\\n\", matrix)\n",
    "print(\"Vector:\\n\", vector)\n",
    "print(\"Result:\\n\", result)\n"
   ]
  },
  {
   "cell_type": "code",
   "execution_count": 11,
   "id": "6cc82f97-b151-4274-ad42-f34979ca37cb",
   "metadata": {},
   "outputs": [],
   "source": [
    "# Q9.How do you create a Pandas DataFrame from a dictionary?"
   ]
  },
  {
   "cell_type": "code",
   "execution_count": 15,
   "id": "adef27f0-158a-4b3a-828f-9a5e2382a9a9",
   "metadata": {},
   "outputs": [],
   "source": [
    "import pandas as pd\n"
   ]
  },
  {
   "cell_type": "code",
   "execution_count": 16,
   "id": "fce28bd6-be90-4e4c-9cfe-f1de87f584af",
   "metadata": {},
   "outputs": [],
   "source": [
    "data = {\n",
    "    'Name': ['Ali', 'Bilal', 'Anas', 'Mehmood'],\n",
    "    'Age': [25, 30, 35, 40],\n",
    "    'City': ['Rawalakot', 'Bagh', 'Lahore', 'Rawalpindi']\n",
    "}\n"
   ]
  },
  {
   "cell_type": "code",
   "execution_count": 17,
   "id": "b8992dff-1af3-4f6d-bf04-2819620d6681",
   "metadata": {},
   "outputs": [],
   "source": [
    "#to create dataframe from above dictionary:"
   ]
  },
  {
   "cell_type": "code",
   "execution_count": 18,
   "id": "898d9846-5630-40e8-bc86-e2b2e94420f8",
   "metadata": {},
   "outputs": [
    {
     "name": "stdout",
     "output_type": "stream",
     "text": [
      "      Name  Age        City\n",
      "0      Ali   25   Rawalakot\n",
      "1    Bilal   30        Bagh\n",
      "2     Anas   35      Lahore\n",
      "3  Mehmood   40  Rawalpindi\n"
     ]
    }
   ],
   "source": [
    "df = pd.DataFrame(data)\n",
    "print(df)\n"
   ]
  },
  {
   "cell_type": "code",
   "execution_count": 19,
   "id": "67c779ea-911c-4122-94a1-c8328218d839",
   "metadata": {},
   "outputs": [],
   "source": [
    "# Q10.What are the key differences between a Pandas Series and a Pandas DataFrame?"
   ]
  },
  {
   "cell_type": "code",
   "execution_count": 20,
   "id": "3d3ec956-655d-4fc6-a7ba-64aeac3d57b7",
   "metadata": {},
   "outputs": [
    {
     "data": {
      "text/plain": [
       "'Pandas Series\\n1.One-Dimensional:\\nA Series is a one-dimensional labeled array that can hold any data type (integers, strings, floating-point numbers, etc.).\\n2.Index:\\nIt has an index, which is like row labels. By default, it starts from 0.\\n3.Single Column:\\nA Series represents a single column of data, meaning it has only one column.\\n4.Creation:\\nYou can create a Series from a list, dictionary, or another array.'"
      ]
     },
     "execution_count": 20,
     "metadata": {},
     "output_type": "execute_result"
    }
   ],
   "source": [
    "'''Pandas Series\n",
    "1.One-Dimensional:\n",
    "A Series is a one-dimensional labeled array that can hold any data type (integers, strings, floating-point numbers, etc.).\n",
    "2.Index:\n",
    "It has an index, which is like row labels. By default, it starts from 0.\n",
    "3.Single Column:\n",
    "A Series represents a single column of data, meaning it has only one column.\n",
    "4.Creation:\n",
    "You can create a Series from a list, dictionary, or another array.'''"
   ]
  },
  {
   "cell_type": "code",
   "execution_count": 21,
   "id": "5f389027-6a75-40fe-9c9d-5a8bc08de59b",
   "metadata": {},
   "outputs": [
    {
     "name": "stdout",
     "output_type": "stream",
     "text": [
      "0    1\n",
      "1    2\n",
      "2    3\n",
      "3    4\n",
      "4    5\n",
      "dtype: int64\n"
     ]
    }
   ],
   "source": [
    "import pandas as pd\n",
    "\n",
    "data = [1, 2, 3, 4, 5]\n",
    "series = pd.Series(data)\n",
    "print(series)\n"
   ]
  },
  {
   "cell_type": "code",
   "execution_count": 22,
   "id": "cad55c64-1145-4be3-84cd-fa85aacc3b38",
   "metadata": {},
   "outputs": [
    {
     "data": {
      "text/plain": [
       "'Pandas DataFrame:\\n1.Two-Dimensional:\\nA DataFrame is a two-dimensional labeled data structure that can hold multiple types of data. Think of it as a table with rows and columns.\\n2.Index and Columns:\\nIt has both an index (row labels) and columns (column labels).\\n3.Multiple Columns:\\nA DataFrame can contain multiple columns of data, each of which can be a different data type.\\n4.Creation:\\nYou can create a DataFrame from a dictionary of arrays, lists, Series, dictionaries, or another DataFrame'"
      ]
     },
     "execution_count": 22,
     "metadata": {},
     "output_type": "execute_result"
    }
   ],
   "source": [
    "'''Pandas DataFrame:\n",
    "1.Two-Dimensional:\n",
    "A DataFrame is a two-dimensional labeled data structure that can hold multiple types of data. Think of it as a table with rows and columns.\n",
    "2.Index and Columns:\n",
    "It has both an index (row labels) and columns (column labels).\n",
    "3.Multiple Columns:\n",
    "A DataFrame can contain multiple columns of data, each of which can be a different data type.\n",
    "4.Creation:\n",
    "You can create a DataFrame from a dictionary of arrays, lists, Series, dictionaries, or another DataFrame'''"
   ]
  },
  {
   "cell_type": "code",
   "execution_count": 23,
   "id": "7c1ced3f-4ff7-4fe8-8429-0485761dd67d",
   "metadata": {},
   "outputs": [
    {
     "name": "stdout",
     "output_type": "stream",
     "text": [
      "    Name  Age       City\n",
      "0    Ali   25  Rawalakot\n",
      "1  Bilal   30       Bagh\n",
      "2   Anas   35     Lahore\n"
     ]
    }
   ],
   "source": [
    "data = {\n",
    "    'Name': ['Ali', 'Bilal', 'Anas'],\n",
    "    'Age': [25, 30, 35],\n",
    "    'City': ['Rawalakot', 'Bagh', 'Lahore']\n",
    "}\n",
    "df = pd.DataFrame(data)\n",
    "print(df)\n"
   ]
  },
  {
   "cell_type": "code",
   "execution_count": 24,
   "id": "1ff1f532-e8c2-4565-901d-b02ff8736425",
   "metadata": {},
   "outputs": [],
   "source": [
    "# Q11.How do you display the first five rows of a Pandas DataFrame?"
   ]
  },
  {
   "cell_type": "code",
   "execution_count": 25,
   "id": "e8b2daa8-8c31-4eae-b975-f9cef5f3fb44",
   "metadata": {},
   "outputs": [
    {
     "data": {
      "text/plain": [
       "'To display the first five rows of a Pandas DataFrame, we can use the .head() method. \\nBy default, .head() returns the first five rows, but we can specify a different number of rows if needed.'"
      ]
     },
     "execution_count": 25,
     "metadata": {},
     "output_type": "execute_result"
    }
   ],
   "source": [
    "'''To display the first five rows of a Pandas DataFrame, we can use the .head() method. \n",
    "By default, .head() returns the first five rows, but we can specify a different number of rows if needed.'''"
   ]
  },
  {
   "cell_type": "code",
   "execution_count": 26,
   "id": "88c9b106-d417-49e6-8c70-ba37802e1c24",
   "metadata": {},
   "outputs": [
    {
     "name": "stdout",
     "output_type": "stream",
     "text": [
      "      Name  Age         City\n",
      "0    Alice   25     New York\n",
      "1      Bob   30  Los Angeles\n",
      "2  Charlie   35      Chicago\n",
      "3    David   40      Houston\n",
      "4      Eve   28      Phoenix\n"
     ]
    }
   ],
   "source": [
    "import pandas as pd\n",
    "\n",
    "# Sample data\n",
    "data = {\n",
    "    'Name': ['Alice', 'Bob', 'Charlie', 'David', 'Eve', 'Frank', 'Grace'],\n",
    "    'Age': [25, 30, 35, 40, 28, 33, 45],\n",
    "    'City': ['New York', 'Los Angeles', 'Chicago', 'Houston', 'Phoenix', 'Philadelphia', 'San Antonio']\n",
    "}\n",
    "\n",
    "# Create DataFrame\n",
    "df = pd.DataFrame(data)\n",
    "\n",
    "# Display the first five rows\n",
    "print(df.head())\n"
   ]
  },
  {
   "cell_type": "code",
   "execution_count": 27,
   "id": "59099c55-a20b-4fde-8c13-7573555497e0",
   "metadata": {},
   "outputs": [],
   "source": [
    "# Q12.How can you rename the columns of a Pandas DataFrame?"
   ]
  },
  {
   "cell_type": "code",
   "execution_count": 28,
   "id": "8f3f6d76-9434-4175-a782-204638713749",
   "metadata": {},
   "outputs": [],
   "source": [
    "#Renaming columns in a Pandas DataFrame can be done using the .rename() method or by directly setting the .columns attribute."
   ]
  },
  {
   "cell_type": "code",
   "execution_count": 29,
   "id": "5077ab93-2c87-4ee0-b595-0d77182b3995",
   "metadata": {},
   "outputs": [
    {
     "name": "stdout",
     "output_type": "stream",
     "text": [
      "  Full Name  Years     Location\n",
      "0     Alice     25     New York\n",
      "1       Bob     30  Los Angeles\n",
      "2   Charlie     35      Chicago\n"
     ]
    }
   ],
   "source": [
    "#Method 1: Using .rename()\n",
    "import pandas as pd\n",
    "\n",
    "# Sample data\n",
    "data = {\n",
    "    'Name': ['Alice', 'Bob', 'Charlie'],\n",
    "    'Age': [25, 30, 35],\n",
    "    'City': ['New York', 'Los Angeles', 'Chicago']\n",
    "}\n",
    "\n",
    "# Create DataFrame\n",
    "df = pd.DataFrame(data)\n",
    "\n",
    "# Rename columns\n",
    "df_renamed = df.rename(columns={'Name': 'Full Name', 'Age': 'Years', 'City': 'Location'})\n",
    "print(df_renamed)\n"
   ]
  },
  {
   "cell_type": "code",
   "execution_count": 30,
   "id": "cae09ee1-99f1-4bf7-bcc7-451a3e63f3c3",
   "metadata": {},
   "outputs": [
    {
     "name": "stdout",
     "output_type": "stream",
     "text": [
      "  Full Name  Years     Location\n",
      "0     Alice     25     New York\n",
      "1       Bob     30  Los Angeles\n",
      "2   Charlie     35      Chicago\n"
     ]
    }
   ],
   "source": [
    "#Method 2: Setting .columns Attribute\n",
    "# Rename all columns\n",
    "df.columns = ['Full Name', 'Years', 'Location']\n",
    "print(df)\n"
   ]
  },
  {
   "cell_type": "code",
   "execution_count": 31,
   "id": "6c317663-ac8c-492a-8119-52be448da171",
   "metadata": {},
   "outputs": [],
   "source": [
    "# Q13.What is the difference between the loc and iloc indexers in Pandas? Provide examples."
   ]
  },
  {
   "cell_type": "code",
   "execution_count": 32,
   "id": "6d68488b-8969-4d61-9453-4ae296e64465",
   "metadata": {},
   "outputs": [
    {
     "data": {
      "text/plain": [
       "'The loc and iloc indexers in Pandas are used to access rows and columns of a DataFrame, \\nbut they have different ways of specifying what to access.'"
      ]
     },
     "execution_count": 32,
     "metadata": {},
     "output_type": "execute_result"
    }
   ],
   "source": [
    "'''The loc and iloc indexers in Pandas are used to access rows and columns of a DataFrame, \n",
    "but they have different ways of specifying what to access.'''"
   ]
  },
  {
   "cell_type": "code",
   "execution_count": 33,
   "id": "78c45594-499b-45e5-954f-7574125bb51b",
   "metadata": {},
   "outputs": [
    {
     "data": {
      "text/plain": [
       "'loc Indexer:\\nLabel-based indexing: loc is used to access data using row and column labels.\\nInclusive: When specifying ranges, the end label is included'"
      ]
     },
     "execution_count": 33,
     "metadata": {},
     "output_type": "execute_result"
    }
   ],
   "source": [
    "'''loc Indexer:\n",
    "Label-based indexing: loc is used to access data using row and column labels.\n",
    "Inclusive: When specifying ranges, the end label is included'''"
   ]
  },
  {
   "cell_type": "code",
   "execution_count": 34,
   "id": "c8ecef45-5abc-4ed1-a45a-8ad02d896828",
   "metadata": {},
   "outputs": [
    {
     "name": "stdout",
     "output_type": "stream",
     "text": [
      "      Name  Age         City\n",
      "0    Alice   25     New York\n",
      "1      Bob   30  Los Angeles\n",
      "2  Charlie   35      Chicago\n",
      "3    David   40      Houston\n",
      "Name            Bob\n",
      "Age              30\n",
      "City    Los Angeles\n",
      "Name: 1, dtype: object\n",
      "0    25\n",
      "1    30\n",
      "2    35\n",
      "3    40\n",
      "Name: Age, dtype: int64\n",
      "Bob\n",
      "      Name  Age         City\n",
      "1      Bob   30  Los Angeles\n",
      "2  Charlie   35      Chicago\n",
      "3    David   40      Houston\n"
     ]
    }
   ],
   "source": [
    "# Example:\n",
    "import pandas as pd\n",
    "\n",
    "data = {\n",
    "    'Name': ['Alice', 'Bob', 'Charlie', 'David'],\n",
    "    'Age': [25, 30, 35, 40],\n",
    "    'City': ['New York', 'Los Angeles', 'Chicago', 'Houston']\n",
    "}\n",
    "\n",
    "df = pd.DataFrame(data)\n",
    "print(df)\n",
    "\n",
    "# Accessing rows by label using loc\n",
    "# Get the row with label 1 (i.e., the second row)\n",
    "print(df.loc[1])\n",
    "\n",
    "# Accessing a specific column by label\n",
    "print(df.loc[:, 'Age'])\n",
    "\n",
    "# Accessing a specific row and column\n",
    "print(df.loc[1, 'Name'])\n",
    "\n",
    "# Accessing a range of rows\n",
    "print(df.loc[1:3])  # Rows with labels 1, 2, and 3\n"
   ]
  },
  {
   "cell_type": "code",
   "execution_count": 35,
   "id": "775751e7-4145-4036-8b47-74cb886d0733",
   "metadata": {},
   "outputs": [
    {
     "data": {
      "text/plain": [
       "'iloc Indexer:\\nInteger-based indexing: iloc is used to access data using integer positions (like array indices in Python).\\nExclusive: When specifying ranges, the end index is excluded.'"
      ]
     },
     "execution_count": 35,
     "metadata": {},
     "output_type": "execute_result"
    }
   ],
   "source": [
    "'''iloc Indexer:\n",
    "Integer-based indexing: iloc is used to access data using integer positions (like array indices in Python).\n",
    "Exclusive: When specifying ranges, the end index is excluded.'''"
   ]
  },
  {
   "cell_type": "code",
   "execution_count": 36,
   "id": "2e299c92-c3d1-40ce-98e3-b9a03021b0df",
   "metadata": {},
   "outputs": [
    {
     "name": "stdout",
     "output_type": "stream",
     "text": [
      "Name            Bob\n",
      "Age              30\n",
      "City    Los Angeles\n",
      "Name: 1, dtype: object\n",
      "0    25\n",
      "1    30\n",
      "2    35\n",
      "3    40\n",
      "Name: Age, dtype: int64\n",
      "Bob\n",
      "      Name  Age         City\n",
      "1      Bob   30  Los Angeles\n",
      "2  Charlie   35      Chicago\n"
     ]
    }
   ],
   "source": [
    "# Example:\n",
    "# Accessing rows by integer position using iloc\n",
    "# Get the row at index 1 (i.e., the second row)\n",
    "print(df.iloc[1])\n",
    "\n",
    "# Accessing a specific column by integer position\n",
    "print(df.iloc[:, 1])  # Second column (Age)\n",
    "\n",
    "# Accessing a specific row and column\n",
    "print(df.iloc[1, 0])  # Second row, first column (Name)\n",
    "\n",
    "# Accessing a range of rows\n",
    "print(df.iloc[1:3])  # Rows at index 1 and 2\n"
   ]
  },
  {
   "cell_type": "code",
   "execution_count": 37,
   "id": "5504de23-e5e7-448f-901e-f4afdaaf6a2a",
   "metadata": {},
   "outputs": [],
   "source": [
    "# Q14.How do you filter rows in a DataFrame based on a condition (e.g., select rows where a column is greater than a specific value)?"
   ]
  },
  {
   "cell_type": "code",
   "execution_count": 38,
   "id": "a3cb9316-b33d-49cd-a398-eded894bd5c3",
   "metadata": {},
   "outputs": [
    {
     "name": "stdout",
     "output_type": "stream",
     "text": [
      "      Name  Age     City\n",
      "2  Charlie   35  Chicago\n",
      "3    David   40  Houston\n"
     ]
    }
   ],
   "source": [
    "#Filtering rows in a DataFrame based on a condition is a common task in data analysis with Pandas. You can use boolean indexing to accomplish this.\n",
    "#Example:\n",
    "#Suppose we have a DataFrame with information about people, and we want to filter rows where the age is greater than 30.\n",
    "import pandas as pd\n",
    "\n",
    "# Sample data\n",
    "data = {\n",
    "    'Name': ['Alice', 'Bob', 'Charlie', 'David', 'Eve'],\n",
    "    'Age': [25, 30, 35, 40, 28],\n",
    "    'City': ['New York', 'Los Angeles', 'Chicago', 'Houston', 'Phoenix']\n",
    "}\n",
    "\n",
    "# Create DataFrame\n",
    "df = pd.DataFrame(data)\n",
    "\n",
    "# Filter rows where Age is greater than 30\n",
    "filtered_df = df[df['Age'] > 30]\n",
    "\n",
    "print(filtered_df)\n"
   ]
  },
  {
   "cell_type": "code",
   "execution_count": 39,
   "id": "41e2dc85-c113-4005-b3b8-2206535aaf34",
   "metadata": {},
   "outputs": [],
   "source": [
    "# Q15.How do you calculate the sum of values in a specific column of a Pandas DataFrame?"
   ]
  },
  {
   "cell_type": "code",
   "execution_count": 40,
   "id": "7b075935-bd9f-41d0-b6d0-86194cbfbf6b",
   "metadata": {},
   "outputs": [
    {
     "name": "stdout",
     "output_type": "stream",
     "text": [
      "Sum of ages: 158\n"
     ]
    }
   ],
   "source": [
    "#by using the .sum() method.\n",
    "import pandas as pd\n",
    "\n",
    "# Sample data\n",
    "data = {\n",
    "    'Name': ['Alice', 'Bob', 'Charlie', 'David', 'Eve'],\n",
    "    'Age': [25, 30, 35, 40, 28],\n",
    "    'City': ['New York', 'Los Angeles', 'Chicago', 'Houston', 'Phoenix']\n",
    "}\n",
    "\n",
    "# Create DataFrame\n",
    "df = pd.DataFrame(data)\n",
    "\n",
    "# Calculate the sum of values in the 'Age' column\n",
    "age_sum = df['Age'].sum()\n",
    "\n",
    "print(\"Sum of ages:\", age_sum)\n"
   ]
  },
  {
   "cell_type": "code",
   "execution_count": 41,
   "id": "a129e13d-3b22-468c-847e-11b701f7888b",
   "metadata": {},
   "outputs": [],
   "source": [
    "# Q16.Explain how the groupby() function works in Pandas. Provide an example use case."
   ]
  },
  {
   "cell_type": "code",
   "execution_count": 42,
   "id": "1949fb98-1da0-4ec2-bee8-ce18da580640",
   "metadata": {},
   "outputs": [
    {
     "data": {
      "text/plain": [
       "'The groupby() function in Pandas is used to split the data into groups based on some criteria,\\napply a function to each group independently, \\nand then combine the results back together.\\nThis is extremely useful for summarizing and aggregating data.'"
      ]
     },
     "execution_count": 42,
     "metadata": {},
     "output_type": "execute_result"
    }
   ],
   "source": [
    "'''The groupby() function in Pandas is used to split the data into groups based on some criteria,\n",
    "apply a function to each group independently, \n",
    "and then combine the results back together.\n",
    "This is extremely useful for summarizing and aggregating data.'''"
   ]
  },
  {
   "cell_type": "code",
   "execution_count": 43,
   "id": "d55abd4f-9b83-494b-a416-c0deafc66593",
   "metadata": {},
   "outputs": [
    {
     "name": "stdout",
     "output_type": "stream",
     "text": [
      "Product\n",
      "A    450\n",
      "B    450\n",
      "C    300\n",
      "Name: Sales, dtype: int64\n"
     ]
    }
   ],
   "source": [
    "# Example:\n",
    "import pandas as pd\n",
    "\n",
    "# Sample data\n",
    "data = {\n",
    "    'Product': ['A', 'B', 'A', 'C', 'B', 'A'],\n",
    "    'Sales': [100, 200, 150, 300, 250, 200]\n",
    "}\n",
    "\n",
    "# Create DataFrame\n",
    "df = pd.DataFrame(data)\n",
    "\n",
    "# Group by 'Product' and calculate the sum of 'Sales' for each group\n",
    "grouped = df.groupby('Product')['Sales'].sum()\n",
    "\n",
    "print(grouped)\n"
   ]
  },
  {
   "cell_type": "code",
   "execution_count": 44,
   "id": "7e5c0962-5aa9-4c49-9833-7420dcd5dc8e",
   "metadata": {},
   "outputs": [],
   "source": [
    "# Q17.How do you handle missing data (NaN) in a Pandas DataFrame?"
   ]
  },
  {
   "cell_type": "code",
   "execution_count": 45,
   "id": "65ace92f-4654-4ff9-88b6-c500d9e19117",
   "metadata": {},
   "outputs": [
    {
     "name": "stdout",
     "output_type": "stream",
     "text": [
      "    Name    Age   City\n",
      "0  False  False  False\n",
      "1  False  False   True\n",
      "2  False   True  False\n",
      "3  False  False  False\n"
     ]
    }
   ],
   "source": [
    "#1. Detecting Missing Values\n",
    "# use isnull() or notnull() to detect missing values in a DataFrame:\n",
    "\n",
    "import pandas as pd\n",
    "\n",
    "# Sample data\n",
    "data = {\n",
    "    'Name': ['Alice', 'Bob', 'Charlie', 'David'],\n",
    "    'Age': [25, 30, None, 40],\n",
    "    'City': ['New York', None, 'Chicago', 'Houston']\n",
    "}\n",
    "\n",
    "df = pd.DataFrame(data)\n",
    "\n",
    "# Detect missing values\n",
    "print(df.isnull())\n"
   ]
  },
  {
   "cell_type": "code",
   "execution_count": 46,
   "id": "b73aeca2-12cb-4e20-8b01-2a4a0ba05421",
   "metadata": {},
   "outputs": [
    {
     "name": "stdout",
     "output_type": "stream",
     "text": [
      "    Name   Age      City\n",
      "0  Alice  25.0  New York\n",
      "3  David  40.0   Houston\n"
     ]
    }
   ],
   "source": [
    "#2. Dropping Missing Values\n",
    "# remove rows or columns with missing values using dropna():\n",
    "\n",
    "#to drop rows with any missing values:\n",
    "df_cleaned = df.dropna()\n",
    "print(df_cleaned)\n"
   ]
  },
  {
   "cell_type": "code",
   "execution_count": 47,
   "id": "eaf028a8-1502-446e-9bbd-b1d2d3df4622",
   "metadata": {},
   "outputs": [
    {
     "name": "stdout",
     "output_type": "stream",
     "text": [
      "      Name\n",
      "0    Alice\n",
      "1      Bob\n",
      "2  Charlie\n",
      "3    David\n"
     ]
    }
   ],
   "source": [
    "#to drop columns with any missing values:\n",
    "df_cleaned = df.dropna(axis=1)\n",
    "print(df_cleaned)\n"
   ]
  },
  {
   "cell_type": "code",
   "execution_count": 48,
   "id": "dea9b666-931e-4734-9c66-754bf0d3bcf6",
   "metadata": {},
   "outputs": [],
   "source": [
    "# Q18.What is the purpose of the merge() function in Pandas? How does it differ from concat()?"
   ]
  },
  {
   "cell_type": "code",
   "execution_count": 49,
   "id": "68171f89-67a3-4d83-8bb9-6fb768fae0c9",
   "metadata": {},
   "outputs": [],
   "source": [
    "#The merge function used to combine two DataFrames based on common columns or indices, while concat fonction Concatenate along a particular axis"
   ]
  },
  {
   "cell_type": "code",
   "execution_count": 50,
   "id": "125bc604-43af-4a09-b25d-12b380e62eb9",
   "metadata": {},
   "outputs": [
    {
     "name": "stdout",
     "output_type": "stream",
     "text": [
      "   ID     Name  Age\n",
      "0   3  Charlie   35\n",
      "1   4    David   40\n"
     ]
    }
   ],
   "source": [
    "#Example merge:\n",
    "\n",
    "import pandas as pd\n",
    "\n",
    "# Sample data\n",
    "df1 = pd.DataFrame({\n",
    "    'ID': [1, 2, 3, 4],\n",
    "    'Name': ['Alice', 'Bob', 'Charlie', 'David']\n",
    "})\n",
    "\n",
    "df2 = pd.DataFrame({\n",
    "    'ID': [3, 4, 5, 6],\n",
    "    'Age': [35, 40, 45, 50]\n",
    "})\n",
    "\n",
    "# Merge DataFrames on 'ID' column\n",
    "merged_df = df1.merge(df2, on='ID', how='inner')\n",
    "print(merged_df)\n"
   ]
  },
  {
   "cell_type": "code",
   "execution_count": 51,
   "id": "2c4e6079-9419-404f-a7bf-cbbd858b686b",
   "metadata": {},
   "outputs": [
    {
     "name": "stdout",
     "output_type": "stream",
     "text": [
      "   ID     Name\n",
      "0   1    Alice\n",
      "1   2      Bob\n",
      "2   3  Charlie\n",
      "3   4    David\n",
      "0   5      Eve\n",
      "1   6    Frank\n",
      "2   7    Grace\n",
      "3   8   Hannah\n"
     ]
    }
   ],
   "source": [
    "#Example concat:\n",
    "\n",
    "# Sample data\n",
    "df3 = pd.DataFrame({\n",
    "    'ID': [1, 2, 3, 4],\n",
    "    'Name': ['Alice', 'Bob', 'Charlie', 'David']\n",
    "})\n",
    "\n",
    "df4 = pd.DataFrame({\n",
    "    'ID': [5, 6, 7, 8],\n",
    "    'Name': ['Eve', 'Frank', 'Grace', 'Hannah']\n",
    "})\n",
    "\n",
    "# Concatenate DataFrames vertically (axis=0)\n",
    "concat_df = pd.concat([df3, df4], axis=0)\n",
    "print(concat_df)\n"
   ]
  },
  {
   "cell_type": "code",
   "execution_count": 52,
   "id": "53490dc9-ebfe-4273-b999-36a1871d26d1",
   "metadata": {},
   "outputs": [],
   "source": [
    "# Q19.How do you sort a Pandas DataFrame by a specific column?"
   ]
  },
  {
   "cell_type": "code",
   "execution_count": 53,
   "id": "6c282493-f04e-41e3-985a-c69b3d8d7dae",
   "metadata": {},
   "outputs": [
    {
     "name": "stdout",
     "output_type": "stream",
     "text": [
      "      Name  Age         City\n",
      "0    Alice   25     New York\n",
      "4      Eve   28      Phoenix\n",
      "1      Bob   30  Los Angeles\n",
      "2  Charlie   35      Chicago\n",
      "3    David   40      Houston\n"
     ]
    }
   ],
   "source": [
    "#by using .sort_values() method\n",
    "#Example:\n",
    "\n",
    "import pandas as pd\n",
    "\n",
    "# Sample data\n",
    "data = {\n",
    "    'Name': ['Alice', 'Bob', 'Charlie', 'David', 'Eve'],\n",
    "    'Age': [25, 30, 35, 40, 28],\n",
    "    'City': ['New York', 'Los Angeles', 'Chicago', 'Houston', 'Phoenix']\n",
    "}\n",
    "\n",
    "# Create DataFrame\n",
    "df = pd.DataFrame(data)\n",
    "\n",
    "# Sort DataFrame by the 'Age' column\n",
    "sorted_df = df.sort_values(by='Age')\n",
    "\n",
    "print(sorted_df)\n"
   ]
  },
  {
   "cell_type": "code",
   "execution_count": 54,
   "id": "86b83132-5798-4880-9dd6-f29fd77573be",
   "metadata": {},
   "outputs": [],
   "source": [
    "# Q20.Create a Pandas DataFrame with sample data (e.g., student names and marks) and save it as a CSV file."
   ]
  },
  {
   "cell_type": "code",
   "execution_count": 55,
   "id": "e487dd7a-9eba-4963-bfeb-302b45771942",
   "metadata": {},
   "outputs": [
    {
     "name": "stdout",
     "output_type": "stream",
     "text": [
      "DataFrame saved as 'student_marks.csv'\n"
     ]
    }
   ],
   "source": [
    "import pandas as pd\n",
    "\n",
    "# Sample data\n",
    "data = {\n",
    "    'Student': ['Ali', 'Bilal', 'Anas', 'Mehmood', 'Wali'],\n",
    "    'Marks': [85, 90, 78, 88, 92]\n",
    "}\n",
    "\n",
    "# Create DataFrame\n",
    "df = pd.DataFrame(data)\n",
    "\n",
    "# Save DataFrame as CSV file\n",
    "df.to_csv('student_marks.csv', index=False)\n",
    "\n",
    "print(\"DataFrame saved as 'student_marks.csv'\")\n"
   ]
  },
  {
   "cell_type": "code",
   "execution_count": null,
   "id": "01bc262e-48fb-4b5c-9177-2fd1b8dafc09",
   "metadata": {},
   "outputs": [],
   "source": []
  }
 ],
 "metadata": {
  "kernelspec": {
   "display_name": "Python 3 (ipykernel)",
   "language": "python",
   "name": "python3"
  },
  "language_info": {
   "codemirror_mode": {
    "name": "ipython",
    "version": 3
   },
   "file_extension": ".py",
   "mimetype": "text/x-python",
   "name": "python",
   "nbconvert_exporter": "python",
   "pygments_lexer": "ipython3",
   "version": "3.11.7"
  }
 },
 "nbformat": 4,
 "nbformat_minor": 5
}
