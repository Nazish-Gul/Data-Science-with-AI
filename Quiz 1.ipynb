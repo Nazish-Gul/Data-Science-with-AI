{
 "cells": [
  {
   "cell_type": "code",
   "execution_count": 2,
   "id": "6f7cc148-bc93-4a1f-b51c-cce391db9ebf",
   "metadata": {},
   "outputs": [],
   "source": [
    "# Q.1 How do you declare a variable named age and assign the value 25 to it?"
   ]
  },
  {
   "cell_type": "code",
   "execution_count": 3,
   "id": "9fe61425-fd05-42e6-ba80-708174fb2199",
   "metadata": {},
   "outputs": [
    {
     "name": "stdout",
     "output_type": "stream",
     "text": [
      "Variable age: 25\n",
      "\n",
      "Sample DataFrame:\n",
      "       Name  Age\n",
      "0    Alice   25\n",
      "1      Bob   30\n",
      "2  Charlie   35\n"
     ]
    }
   ],
   "source": [
    "import pandas as pd  # Importing the pandas library\n",
    "\n",
    "# Declaring a variable and assigning a value\n",
    "age = 25\n",
    "\n",
    "# Creating a sample pandas DataFrame\n",
    "data = {'Name': ['Alice', 'Bob', 'Charlie'], 'Age': [25, 30, 35]}\n",
    "df = pd.DataFrame(data)\n",
    "\n",
    "# Displaying the DataFrame\n",
    "print(\"Variable age:\", age)\n",
    "print(\"\\nSample DataFrame:\\n\", df)\n"
   ]
  },
  {
   "cell_type": "code",
   "execution_count": 4,
   "id": "5d75abfb-2b2c-4083-93b3-cf655ac1500a",
   "metadata": {},
   "outputs": [],
   "source": [
    "# Q.2 Import a CSV file in Jupyter using Pandas?"
   ]
  },
  {
   "cell_type": "code",
   "execution_count": 6,
   "id": "807f28fa-3461-44d2-8eab-b30e5ee16716",
   "metadata": {},
   "outputs": [],
   "source": [
    "# Example\n",
    "import pandas as pd  # Import pandas library\n",
    "\n",
    "# Import CSV file\n",
    "#df = pd.read_csv('filename.csv')  # We will replace 'filename.csv' with actual file path"
   ]
  },
  {
   "cell_type": "code",
   "execution_count": 7,
   "id": "c0814222-6a7f-480b-8b38-8555e8ebc3a9",
   "metadata": {},
   "outputs": [],
   "source": [
    "# Q.3 What Python function can you use to display the first 5 rows of a DataFrame?"
   ]
  },
  {
   "cell_type": "code",
   "execution_count": 9,
   "id": "a4770e1a-0c5d-434e-8212-299d9d9f2d97",
   "metadata": {},
   "outputs": [],
   "source": [
    "# Example\n",
    "# Display the first 5 rows of the DataFrame\n",
    "#print(df.head())\n"
   ]
  },
  {
   "cell_type": "code",
   "execution_count": 10,
   "id": "1e24fd37-159a-476d-bd74-da45d1dca2ab",
   "metadata": {},
   "outputs": [],
   "source": [
    "# Q.4 How do you check the number of rows and columns in a DataFrame?"
   ]
  },
  {
   "cell_type": "code",
   "execution_count": 11,
   "id": "0b53ff64-31bf-4e6f-aee9-4aec57f893ad",
   "metadata": {},
   "outputs": [
    {
     "name": "stdout",
     "output_type": "stream",
     "text": [
      "Number of rows and columns: (3, 2)\n"
     ]
    }
   ],
   "source": [
    "import pandas as pd\n",
    "\n",
    "# Sample DataFrame\n",
    "data = {'Name': ['Alice', 'Bob', 'Charlie'], 'Age': [25, 30, 35]}\n",
    "df = pd.DataFrame(data)\n",
    "\n",
    "# Check the number of rows and columns\n",
    "print(\"Number of rows and columns:\", df.shape)\n"
   ]
  },
  {
   "cell_type": "code",
   "execution_count": 12,
   "id": "2e021442-d0be-48cb-a121-092791bb706b",
   "metadata": {},
   "outputs": [],
   "source": [
    "# Q.5 What function is used to identify missing (null) values in a DataFrame?"
   ]
  },
  {
   "cell_type": "code",
   "execution_count": 13,
   "id": "72abec3e-c2f3-4b63-a11c-4f0d2f80e366",
   "metadata": {},
   "outputs": [
    {
     "name": "stdout",
     "output_type": "stream",
     "text": [
      "Missing values:\n",
      "     Name    Age\n",
      "0  False  False\n",
      "1  False   True\n",
      "2   True  False\n"
     ]
    }
   ],
   "source": [
    "import pandas as pd\n",
    "\n",
    "# Sample DataFrame with missing values\n",
    "data = {'Name': ['Alice', 'Bob', None], 'Age': [25, None, 35]}\n",
    "df = pd.DataFrame(data)\n",
    "\n",
    "# Identify missing values\n",
    "print(\"Missing values:\\n\", df.isnull())\n"
   ]
  },
  {
   "cell_type": "code",
   "execution_count": 14,
   "id": "b3449cd4-e2e1-4b17-ab4c-e321ea123fa0",
   "metadata": {},
   "outputs": [],
   "source": [
    "# Q.6 How do you count the total number of null values in a DataFrame?"
   ]
  },
  {
   "cell_type": "code",
   "execution_count": 15,
   "id": "521377e2-5dbb-4c70-8897-59f0f0fd6d55",
   "metadata": {},
   "outputs": [
    {
     "name": "stdout",
     "output_type": "stream",
     "text": [
      "Total number of null values: 2\n"
     ]
    }
   ],
   "source": [
    "import pandas as pd\n",
    "\n",
    "# Sample DataFrame with missing values\n",
    "data = {'Name': ['Alice', 'Bob', None], 'Age': [25, None, 35]}\n",
    "df = pd.DataFrame(data)\n",
    "\n",
    "# Count the total number of null values\n",
    "total_null_values = df.isnull().sum().sum()\n",
    "\n",
    "print(\"Total number of null values:\", total_null_values)\n"
   ]
  },
  {
   "cell_type": "code",
   "execution_count": 16,
   "id": "82b36e4d-034b-4ee0-a5e2-ef5c81df235d",
   "metadata": {},
   "outputs": [],
   "source": [
    "# Q.7 What method is used to find duplicate rows in a DataFrame?"
   ]
  },
  {
   "cell_type": "code",
   "execution_count": 19,
   "id": "2a452710-fb06-4d24-8f53-fce28f1dc320",
   "metadata": {},
   "outputs": [
    {
     "name": "stdout",
     "output_type": "stream",
     "text": [
      "Duplicate rows:\n",
      " 0    False\n",
      "1    False\n",
      "2     True\n",
      "3    False\n",
      "dtype: bool\n"
     ]
    }
   ],
   "source": [
    "import pandas as pd\n",
    "\n",
    "# Sample DataFrame\n",
    "data = {'Name': ['Alice', 'Bob', 'Alice', 'Charlie'], 'Age': [25, 30, 25, 35]}\n",
    "df = pd.DataFrame(data)\n",
    "\n",
    "# Find duplicate rows\n",
    "duplicate_rows = df.duplicated()\n",
    "\n",
    "print(\"Duplicate rows:\\n\", duplicate_rows)\n"
   ]
  },
  {
   "cell_type": "code",
   "execution_count": 20,
   "id": "afd8156b-0561-424e-9a88-a7588bd25efb",
   "metadata": {},
   "outputs": [],
   "source": [
    "# Q.8 How do you check if a specific column in a DataFrame contains duplicate values?"
   ]
  },
  {
   "cell_type": "code",
   "execution_count": 21,
   "id": "56634b1d-2b0b-41f7-9500-5949ab1cc1c2",
   "metadata": {},
   "outputs": [
    {
     "name": "stdout",
     "output_type": "stream",
     "text": [
      "Duplicates in 'Name' column:\n",
      " 0    False\n",
      "1    False\n",
      "2     True\n",
      "3    False\n",
      "Name: Name, dtype: bool\n"
     ]
    }
   ],
   "source": [
    "import pandas as pd\n",
    "\n",
    "# Sample DataFrame\n",
    "data = {'Name': ['Alice', 'Bob', 'Alice', 'Charlie'], 'Age': [25, 30, 25, 35]}\n",
    "df = pd.DataFrame(data)\n",
    "\n",
    "# Check for duplicates in the 'Name' column\n",
    "duplicates_in_name = df['Name'].duplicated()\n",
    "\n",
    "print(\"Duplicates in 'Name' column:\\n\", duplicates_in_name)\n"
   ]
  },
  {
   "cell_type": "code",
   "execution_count": 22,
   "id": "f60177fb-e181-46e4-8149-e02c01ef17ea",
   "metadata": {},
   "outputs": [],
   "source": [
    "# Q.9 Write Python code to calculate the mean of a column."
   ]
  },
  {
   "cell_type": "code",
   "execution_count": 23,
   "id": "0c9765f4-bb4d-46da-9067-c4a6082af8a5",
   "metadata": {},
   "outputs": [
    {
     "name": "stdout",
     "output_type": "stream",
     "text": [
      "Mean of the 'Age' column: 30.0\n"
     ]
    }
   ],
   "source": [
    "import pandas as pd\n",
    "\n",
    "# Sample DataFrame\n",
    "data = {'Name': ['Alice', 'Bob', 'Charlie'], 'Age': [25, 30, 35]}\n",
    "df = pd.DataFrame(data)\n",
    "\n",
    "# Calculate the mean of the 'Age' column\n",
    "mean_age = df['Age'].mean()\n",
    "\n",
    "print(\"Mean of the 'Age' column:\", mean_age)\n"
   ]
  },
  {
   "cell_type": "code",
   "execution_count": 24,
   "id": "8bcdcfff-a543-436f-be6c-b5c8861476cd",
   "metadata": {},
   "outputs": [],
   "source": [
    "# Q.10 How do you drop all duplicate rows in a DataFrame?"
   ]
  },
  {
   "cell_type": "code",
   "execution_count": 25,
   "id": "11d03ac8-282b-49c4-94da-c71ef238ded3",
   "metadata": {},
   "outputs": [
    {
     "name": "stdout",
     "output_type": "stream",
     "text": [
      "DataFrame without duplicates:\n",
      "       Name  Age\n",
      "0    Alice   25\n",
      "1      Bob   30\n",
      "3  Charlie   35\n"
     ]
    }
   ],
   "source": [
    "import pandas as pd\n",
    "\n",
    "# Sample DataFrame with duplicate rows\n",
    "data = {'Name': ['Alice', 'Bob', 'Alice', 'Charlie'], 'Age': [25, 30, 25, 35]}\n",
    "df = pd.DataFrame(data)\n",
    "\n",
    "# Drop duplicate rows\n",
    "df_no_duplicates = df.drop_duplicates()\n",
    "\n",
    "print(\"DataFrame without duplicates:\\n\", df_no_duplicates)\n"
   ]
  },
  {
   "cell_type": "code",
   "execution_count": 26,
   "id": "8b9a500c-3835-42bf-8e07-0e4192d7b11c",
   "metadata": {},
   "outputs": [],
   "source": [
    "# Q.11 What is the key difference between Python's lists and arrays from the NumPy library?write code for example."
   ]
  },
  {
   "cell_type": "code",
   "execution_count": 27,
   "id": "7c770ddf-4dbd-4250-a8bf-2c52a9b21104",
   "metadata": {},
   "outputs": [
    {
     "data": {
      "text/plain": [
       "\"The key difference between Python's lists and NumPy arrays is that NumPy arrays are specifically designed for numerical computations and offer\\nbetter performance, especially for large datasets. They are more efficient in terms of memory usage and speed compared to Python lists. \\nNumPy arrays also support element-wise operations (e.g., addition, multiplication) directly, while Python lists do not.\""
      ]
     },
     "execution_count": 27,
     "metadata": {},
     "output_type": "execute_result"
    }
   ],
   "source": [
    "'''The key difference between Python's lists and NumPy arrays is that NumPy arrays are specifically designed for numerical computations and offer\n",
    "better performance, especially for large datasets. They are more efficient in terms of memory usage and speed compared to Python lists. \n",
    "NumPy arrays also support element-wise operations (e.g., addition, multiplication) directly, while Python lists do not.'''"
   ]
  },
  {
   "cell_type": "code",
   "execution_count": 28,
   "id": "376bd12a-f761-4f65-9fec-b74542c7c297",
   "metadata": {},
   "outputs": [],
   "source": [
    "# End of quiz 1"
   ]
  },
  {
   "cell_type": "code",
   "execution_count": null,
   "id": "be1dc9bb-2044-4227-a634-7ca3832db147",
   "metadata": {},
   "outputs": [],
   "source": []
  }
 ],
 "metadata": {
  "kernelspec": {
   "display_name": "Python 3 (ipykernel)",
   "language": "python",
   "name": "python3"
  },
  "language_info": {
   "codemirror_mode": {
    "name": "ipython",
    "version": 3
   },
   "file_extension": ".py",
   "mimetype": "text/x-python",
   "name": "python",
   "nbconvert_exporter": "python",
   "pygments_lexer": "ipython3",
   "version": "3.11.7"
  }
 },
 "nbformat": 4,
 "nbformat_minor": 5
}
